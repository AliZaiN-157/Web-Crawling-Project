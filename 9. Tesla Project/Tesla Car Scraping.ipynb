{
 "cells": [
  {
   "cell_type": "markdown",
   "metadata": {},
   "source": [
    "### Step 1 - Import Packages"
   ]
  },
  {
   "cell_type": "code",
   "execution_count": 1,
   "metadata": {},
   "outputs": [],
   "source": [
    "import pandas as pd\n",
    "import requests"
   ]
  },
  {
   "cell_type": "markdown",
   "metadata": {},
   "source": [
    "### Step 2 - Requests and CURLs"
   ]
  },
  {
   "cell_type": "code",
   "execution_count": 2,
   "metadata": {},
   "outputs": [],
   "source": [
    "\n",
    "headers = {\n",
    "    'authority': 'www.autolist.com',\n",
    "    'sec-ch-ua': '^\\\\^Chromium^\\\\^;v=^\\\\^92^\\\\^, ^\\\\^',\n",
    "    'accept': '*/*',\n",
    "    'x-requested-with': 'XMLHttpRequest',\n",
    "    'sec-ch-ua-mobile': '?1',\n",
    "    'x-autolist-session-guid': 'e9516a64-3f80-4d39-b978-263d26a127fa',\n",
    "    'user-agent': 'Mozilla/5.0 (Linux; Android 6.0; Nexus 5 Build/MRA58N) AppleWebKit/537.36 (KHTML, like Gecko) Chrome/92.0.4515.131 Mobile Safari/537.36',\n",
    "    'sec-fetch-site': 'same-origin',\n",
    "    'sec-fetch-mode': 'cors',\n",
    "    'sec-fetch-dest': 'empty',\n",
    "    'referer': 'https://www.autolist.com/listings',\n",
    "    'accept-language': 'en-GB,en-US;q=0.9,en;q=0.8',\n",
    "    'cookie': 'ec=eyJlZGdlVXNlckFnZW50IjoiTW96aWxsYS81LjAgKFdpbmRvd3MgTlQgMTAuMDsgV2luNjQ7IHg2NCkgQXBwbGVXZWJLaXQvNTM3LjM2IChLSFRNTCwgbGlrZSBHZWNrbykgQ2hyb21lLzkyLjAuNDUxNS4xMzEgU2FmYXJpLzUzNy4zNiJ9; client_guid_timestamp=d2716835-c236-44f7-921e-efae3d74390a.1628936994132; scavenger-a493=i2edJn8U8quG2BtrlZCXcua4KB62fcJRrAhaI/t9eYZNJczdHQYj3P0Y4s6myhEl4IbJl8vp9L0oN+SXDh2fFcTvJ/vA/hPyRJ0ohE6LnQGIee5ACCL3nGqW5xFg3QnijfTypiJhVgTfPjk3c81AtkxzR54e+BHqQL0DI6/oWNd7iIkgvHaWjuilZuITytvFV0IAUJ0bX041NuAIFpx8K90bzfPLeAKgkwc0lpwB3cLwm8NcNKMD3xELdjI6leANl5jZJ9KzZ3K+5J7nCpxnAynFJJt2e95bby70BTVZ0qdWtSWGgwFxEdjmesrF42H7EgAjt4LMIKDuRVtbhVwu/q/wUhPoUZvZb6F+CbFpxMXuZTpd27JmWUrboqGTfyS3Nr7gV1kl6hr+8w0aOlmo8NlrdmNRb0u51Ex4zu4JTymiAUsWvS9JhNr/uvk4GVvM3kafDQeKq7v+xHkB/lCvPkqLEifYP7VVan6h5ZmvaQTgULjs0N5JhUd76Pt6c/tY5R0v8R67gjgbvW8n/4Gqzw==; _sp_ses.8ca5=*; _gid=GA1.2.823048946.1628936995; g_state=^{^\\\\^i_p^\\\\^:1628944202322,^\\\\^i_l^\\\\^:1^}; sp-nuid=d2dfbeb1-41e8-4288-a91e-879ef617a6d5; AMP_TOKEN=^%^24NOT_FOUND; _gcl_au=1.1.1218720268.1628937150; cto_bundle=jXoVk19pMkJyRmh6VzlIMlFTWHNtWXUya0twNCUyRlB5OHFLY2dKNjBDWWh1UzVsU09paDdQaFVtMkxnRmo0ZVJHbDFvZUc0V1pKdTN0cFdpaU8lMkZRVWlTUSUyQldVbGpTUG84T2RlcmFuYmJyd1pVd0YzNFklMkY0c0xRU3paeEZkczg5Y0dHOEVWQllmTzEwUmlsU25HUUlxYk1pMDRuZyUzRCUzRA; _ga_152345333=GS1.1.1628936993.1.1.1628937328.0; _ga=GA1.2.1346728936.1628936995; _sp_id.8ca5=ef7115f8-9beb-417f-9929-dfa712d34746.1628936995.1.1628937594.1628936995.9f1a3d2d-4a48-4636-97dd-ee8da1de6310',\n",
    "}\n",
    "\n",
    "params = (\n",
    "    ('make', 'Tesla'),\n",
    "    ('location', 'San^%^20Francisco,^%^20CA'),\n",
    "    ('latitude', '37.7749295'),\n",
    "    ('longitude', '-122.4194155'),\n",
    "    ('radius', '50'),\n",
    "    ('page', '1'),\n",
    ")\n",
    "\n",
    "response = requests.get('https://www.autolist.com/api/cwv/seo/listings', headers=headers, params=params)"
   ]
  },
  {
   "cell_type": "markdown",
   "metadata": {},
   "source": [
    "### Step 3 - Check Status Code"
   ]
  },
  {
   "cell_type": "code",
   "execution_count": 4,
   "metadata": {},
   "outputs": [
    {
     "data": {
      "text/plain": [
       "200"
      ]
     },
     "execution_count": 4,
     "metadata": {},
     "output_type": "execute_result"
    }
   ],
   "source": [
    "response.status_code"
   ]
  },
  {
   "cell_type": "markdown",
   "metadata": {},
   "source": [
    "### Step 4 - Create Json Object"
   ]
  },
  {
   "cell_type": "code",
   "execution_count": null,
   "metadata": {},
   "outputs": [],
   "source": []
  },
  {
   "cell_type": "code",
   "execution_count": null,
   "metadata": {},
   "outputs": [],
   "source": []
  },
  {
   "cell_type": "code",
   "execution_count": null,
   "metadata": {},
   "outputs": [],
   "source": []
  },
  {
   "cell_type": "code",
   "execution_count": null,
   "metadata": {},
   "outputs": [],
   "source": []
  }
 ],
 "metadata": {
  "kernelspec": {
   "display_name": "Python 3",
   "language": "python",
   "name": "python3"
  },
  "language_info": {
   "codemirror_mode": {
    "name": "ipython",
    "version": 3
   },
   "file_extension": ".py",
   "mimetype": "text/x-python",
   "name": "python",
   "nbconvert_exporter": "python",
   "pygments_lexer": "ipython3",
   "version": "3.9.0"
  }
 },
 "nbformat": 4,
 "nbformat_minor": 4
}
