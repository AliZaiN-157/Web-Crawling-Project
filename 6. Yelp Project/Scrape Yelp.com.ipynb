{
 "cells": [
  {
   "cell_type": "markdown",
   "metadata": {},
   "source": [
    "### Import Packages"
   ]
  },
  {
   "cell_type": "code",
   "execution_count": 1,
   "metadata": {},
   "outputs": [],
   "source": [
    "from selenium import webdriver\n",
    "import pandas as pd\n",
    "import time"
   ]
  },
  {
   "cell_type": "markdown",
   "metadata": {},
   "source": [
    "### Set Up"
   ]
  },
  {
   "cell_type": "code",
   "execution_count": 23,
   "metadata": {},
   "outputs": [],
   "source": [
    "driver = webdriver.Chrome('C:\\webdrivers\\chromedriver.exe')\n",
    "driver.get('https://www.yelp.com/search?find_desc=Dentists&find_loc=San%20Francisco%2C%20CA')\n",
    "\n",
    "driver.maximize_window()\n",
    "time.sleep(1)"
   ]
  },
  {
   "cell_type": "markdown",
   "metadata": {},
   "source": [
    "#### Accept Cookies"
   ]
  },
  {
   "cell_type": "code",
   "execution_count": null,
   "metadata": {},
   "outputs": [],
   "source": [
    "# accept Cookies\n",
    "# cookies = driver.find_element_by_id('onetrust-accept-btn-handler')\n",
    "# cookies.click()"
   ]
  },
  {
   "cell_type": "markdown",
   "metadata": {},
   "source": [
    "### Target The Data We Want To Scrape"
   ]
  },
  {
   "cell_type": "markdown",
   "metadata": {},
   "source": [
    "#### Name"
   ]
  },
  {
   "cell_type": "code",
   "execution_count": 64,
   "metadata": {},
   "outputs": [],
   "source": [
    "#Names\n",
    "Names = driver.find_elements_by_xpath('//h4[@class=\"css-1l5lt1i\"]/span/a')\n",
    "\n",
    "# Telephones\n",
    "# Telephones = driver.find_elements_by_class_name(' css-8jxwli') #no telephone number  \n",
    "\n",
    "#Adresses\n",
    "# Address = driver.find_elements_by_xpath('//address//span[@class=\" raw__09f24__3Azrj\"]')\n",
    "#no Address\n",
    "\n",
    "#Expertise\n",
    "Expertise = driver.find_elements_by_xpath('//div[@class=\" border-color--default__09f24__3Epto\"]/div/div/div/p/span[1]')\n",
    "\n",
    "#Stars\n",
    "Stars = driver.find_elements_by_xpath('//div[@class=\" attribute__09f24__1La1D display--inline-block__09f24__3SvIn margin-r1__09f24__3PebR border-color--default__09f24__3Epto\"]/span/div')\n",
    "\n",
    "# Rating Count\n",
    "rating_count = driver.find_elements_by_xpath('//span[@class=\"reviewCount__09f24__3GsGY css-e81eai\"]')\n"
   ]
  },
  {
   "cell_type": "code",
   "execution_count": 89,
   "metadata": {},
   "outputs": [
    {
     "name": "stdout",
     "output_type": "stream",
     "text": [
      "5 star rating\n",
      "5 star rating\n",
      "4.5 star rating\n",
      "5 star rating\n",
      "5 star rating\n",
      "5 star rating\n",
      "4.5 star rating\n",
      "5 star rating\n",
      "5 star rating\n",
      "5 star rating\n"
     ]
    }
   ],
   "source": [
    "# for r in rating_count:\n",
    "#     print(r.text)\n",
    "    \n",
    "for s in Stars:\n",
    "    print(s.get_attribute('aria-label'))"
   ]
  },
  {
   "cell_type": "markdown",
   "metadata": {},
   "source": [
    "### Create DataFrame"
   ]
  },
  {
   "cell_type": "code",
   "execution_count": 90,
   "metadata": {},
   "outputs": [],
   "source": [
    "dentist_example = pd.DataFrame(columns=['Name','Expertise','Stars','Rating'])"
   ]
  },
  {
   "cell_type": "code",
   "execution_count": 91,
   "metadata": {},
   "outputs": [
    {
     "data": {
      "text/html": [
       "<div>\n",
       "<style scoped>\n",
       "    .dataframe tbody tr th:only-of-type {\n",
       "        vertical-align: middle;\n",
       "    }\n",
       "\n",
       "    .dataframe tbody tr th {\n",
       "        vertical-align: top;\n",
       "    }\n",
       "\n",
       "    .dataframe thead th {\n",
       "        text-align: right;\n",
       "    }\n",
       "</style>\n",
       "<table border=\"1\" class=\"dataframe\">\n",
       "  <thead>\n",
       "    <tr style=\"text-align: right;\">\n",
       "      <th></th>\n",
       "      <th>Name</th>\n",
       "      <th>Expertise</th>\n",
       "      <th>Stars</th>\n",
       "      <th>Rating</th>\n",
       "    </tr>\n",
       "  </thead>\n",
       "  <tbody>\n",
       "  </tbody>\n",
       "</table>\n",
       "</div>"
      ],
      "text/plain": [
       "Empty DataFrame\n",
       "Columns: [Name, Expertise, Stars, Rating]\n",
       "Index: []"
      ]
     },
     "execution_count": 91,
     "metadata": {},
     "output_type": "execute_result"
    }
   ],
   "source": [
    "dentist_example"
   ]
  },
  {
   "cell_type": "markdown",
   "metadata": {},
   "source": [
    "### Empty Lists\n",
    "1. Loop Through the results\n",
    "2. Append the results in a list\n",
    "3. Use the list as the \"value-pair\" part for the dictionary (Remember: Dictionaries consist of Key-Value Pairs)\n",
    "4. Hand this Dictionary over to the Pandas Dataframe"
   ]
  },
  {
   "cell_type": "code",
   "execution_count": 92,
   "metadata": {},
   "outputs": [],
   "source": [
    "names = []\n",
    "expertise = []\n",
    "stars = []\n",
    "ratings = []"
   ]
  },
  {
   "cell_type": "markdown",
   "metadata": {},
   "source": [
    "### Loop and Append to List"
   ]
  },
  {
   "cell_type": "code",
   "execution_count": 93,
   "metadata": {},
   "outputs": [],
   "source": [
    "for n in Names:\n",
    "    names.append(n.text)\n",
    "\n",
    "for e in Expertise:\n",
    "    expertise.append(e.text)\n",
    "\n",
    "for s in Stars:\n",
    "    stars.append(s.get_attribute('aria-label'))\n",
    "\n",
    "for r in rating_count:\n",
    "    ratings.append(r.text)"
   ]
  },
  {
   "cell_type": "markdown",
   "metadata": {},
   "source": [
    "### Dictionary"
   ]
  },
  {
   "cell_type": "code",
   "execution_count": 94,
   "metadata": {},
   "outputs": [],
   "source": [
    "dent_dic = {'Name':names,'Expertise':expertise,'Stars':stars,'Ratings':ratings}"
   ]
  },
  {
   "cell_type": "markdown",
   "metadata": {},
   "source": [
    "### Dictionary to Pandas Dataframe"
   ]
  },
  {
   "cell_type": "code",
   "execution_count": 108,
   "metadata": {},
   "outputs": [],
   "source": [
    "df = pd.DataFrame.from_dict(dent_dic)"
   ]
  },
  {
   "cell_type": "code",
   "execution_count": 96,
   "metadata": {},
   "outputs": [
    {
     "data": {
      "text/html": [
       "<div>\n",
       "<style scoped>\n",
       "    .dataframe tbody tr th:only-of-type {\n",
       "        vertical-align: middle;\n",
       "    }\n",
       "\n",
       "    .dataframe tbody tr th {\n",
       "        vertical-align: top;\n",
       "    }\n",
       "\n",
       "    .dataframe thead th {\n",
       "        text-align: right;\n",
       "    }\n",
       "</style>\n",
       "<table border=\"1\" class=\"dataframe\">\n",
       "  <thead>\n",
       "    <tr style=\"text-align: right;\">\n",
       "      <th></th>\n",
       "      <th>Name</th>\n",
       "      <th>Expertise</th>\n",
       "      <th>Stars</th>\n",
       "      <th>Ratings</th>\n",
       "    </tr>\n",
       "  </thead>\n",
       "  <tbody>\n",
       "    <tr>\n",
       "      <th>0</th>\n",
       "      <td>All Smiles Dental</td>\n",
       "      <td>General Dentistry\\nEndodontists\\nOrthodontists</td>\n",
       "      <td>5 star rating</td>\n",
       "      <td>447</td>\n",
       "    </tr>\n",
       "    <tr>\n",
       "      <th>1</th>\n",
       "      <td>San Francisco Dental Artistry</td>\n",
       "      <td>General Dentistry\\nCosmetic Dentists</td>\n",
       "      <td>5 star rating</td>\n",
       "      <td>342</td>\n",
       "    </tr>\n",
       "    <tr>\n",
       "      <th>2</th>\n",
       "      <td>Josh Berd, DDS - The Dentist Group</td>\n",
       "      <td>Cosmetic Dentists\\nGeneral Dentistry\\nOrthodon...</td>\n",
       "      <td>4.5 star rating</td>\n",
       "      <td>228</td>\n",
       "    </tr>\n",
       "    <tr>\n",
       "      <th>3</th>\n",
       "      <td>David T Ho, DDS</td>\n",
       "      <td>General Dentistry</td>\n",
       "      <td>5 star rating</td>\n",
       "      <td>118</td>\n",
       "    </tr>\n",
       "    <tr>\n",
       "      <th>4</th>\n",
       "      <td>Michael J Perona, DDS</td>\n",
       "      <td>General Dentistry\\nCosmetic Dentists\\nOrthodon...</td>\n",
       "      <td>5 star rating</td>\n",
       "      <td>67</td>\n",
       "    </tr>\n",
       "    <tr>\n",
       "      <th>5</th>\n",
       "      <td>Robert Phong Ho, DDS</td>\n",
       "      <td>General Dentistry</td>\n",
       "      <td>5 star rating</td>\n",
       "      <td>111</td>\n",
       "    </tr>\n",
       "    <tr>\n",
       "      <th>6</th>\n",
       "      <td>Aesthetic Dentistry of Noe Valley</td>\n",
       "      <td>Cosmetic Dentists\\nGeneral Dentistry\\nEndodont...</td>\n",
       "      <td>4.5 star rating</td>\n",
       "      <td>108</td>\n",
       "    </tr>\n",
       "    <tr>\n",
       "      <th>7</th>\n",
       "      <td>Lakeside Dental Care</td>\n",
       "      <td>General Dentistry</td>\n",
       "      <td>5 star rating</td>\n",
       "      <td>96</td>\n",
       "    </tr>\n",
       "    <tr>\n",
       "      <th>8</th>\n",
       "      <td>Zen Dental Studio</td>\n",
       "      <td>General Dentistry\\nCosmetic Dentists\\nOrthodon...</td>\n",
       "      <td>5 star rating</td>\n",
       "      <td>80</td>\n",
       "    </tr>\n",
       "    <tr>\n",
       "      <th>9</th>\n",
       "      <td>Elias Qaré, DDS</td>\n",
       "      <td>General Dentistry</td>\n",
       "      <td>5 star rating</td>\n",
       "      <td>132</td>\n",
       "    </tr>\n",
       "  </tbody>\n",
       "</table>\n",
       "</div>"
      ],
      "text/plain": [
       "                                 Name  \\\n",
       "0                   All Smiles Dental   \n",
       "1       San Francisco Dental Artistry   \n",
       "2  Josh Berd, DDS - The Dentist Group   \n",
       "3                     David T Ho, DDS   \n",
       "4               Michael J Perona, DDS   \n",
       "5                Robert Phong Ho, DDS   \n",
       "6   Aesthetic Dentistry of Noe Valley   \n",
       "7                Lakeside Dental Care   \n",
       "8                   Zen Dental Studio   \n",
       "9                     Elias Qaré, DDS   \n",
       "\n",
       "                                           Expertise            Stars Ratings  \n",
       "0     General Dentistry\\nEndodontists\\nOrthodontists    5 star rating     447  \n",
       "1               General Dentistry\\nCosmetic Dentists    5 star rating     342  \n",
       "2  Cosmetic Dentists\\nGeneral Dentistry\\nOrthodon...  4.5 star rating     228  \n",
       "3                                  General Dentistry    5 star rating     118  \n",
       "4  General Dentistry\\nCosmetic Dentists\\nOrthodon...    5 star rating      67  \n",
       "5                                  General Dentistry    5 star rating     111  \n",
       "6  Cosmetic Dentists\\nGeneral Dentistry\\nEndodont...  4.5 star rating     108  \n",
       "7                                  General Dentistry    5 star rating      96  \n",
       "8  General Dentistry\\nCosmetic Dentists\\nOrthodon...    5 star rating      80  \n",
       "9                                  General Dentistry    5 star rating     132  "
      ]
     },
     "execution_count": 96,
     "metadata": {},
     "output_type": "execute_result"
    }
   ],
   "source": [
    "df"
   ]
  },
  {
   "cell_type": "markdown",
   "metadata": {},
   "source": [
    "### Clean the Data"
   ]
  },
  {
   "cell_type": "code",
   "execution_count": 109,
   "metadata": {},
   "outputs": [
    {
     "data": {
      "text/html": [
       "<div>\n",
       "<style scoped>\n",
       "    .dataframe tbody tr th:only-of-type {\n",
       "        vertical-align: middle;\n",
       "    }\n",
       "\n",
       "    .dataframe tbody tr th {\n",
       "        vertical-align: top;\n",
       "    }\n",
       "\n",
       "    .dataframe thead th {\n",
       "        text-align: right;\n",
       "    }\n",
       "</style>\n",
       "<table border=\"1\" class=\"dataframe\">\n",
       "  <thead>\n",
       "    <tr style=\"text-align: right;\">\n",
       "      <th></th>\n",
       "      <th>Name</th>\n",
       "      <th>Expertise</th>\n",
       "      <th>Stars</th>\n",
       "      <th>Ratings</th>\n",
       "    </tr>\n",
       "  </thead>\n",
       "  <tbody>\n",
       "    <tr>\n",
       "      <th>0</th>\n",
       "      <td>All Smiles Dental</td>\n",
       "      <td>General Dentistry, Endodontists, Orthodontists</td>\n",
       "      <td>5</td>\n",
       "      <td>447</td>\n",
       "    </tr>\n",
       "    <tr>\n",
       "      <th>1</th>\n",
       "      <td>San Francisco Dental Artistry</td>\n",
       "      <td>General Dentistry, Cosmetic Dentists</td>\n",
       "      <td>5</td>\n",
       "      <td>342</td>\n",
       "    </tr>\n",
       "    <tr>\n",
       "      <th>2</th>\n",
       "      <td>Josh Berd, DDS - The Dentist Group</td>\n",
       "      <td>Cosmetic Dentists, General Dentistry, Orthodon...</td>\n",
       "      <td>4.5</td>\n",
       "      <td>228</td>\n",
       "    </tr>\n",
       "    <tr>\n",
       "      <th>3</th>\n",
       "      <td>David T Ho, DDS</td>\n",
       "      <td>General Dentistry</td>\n",
       "      <td>5</td>\n",
       "      <td>118</td>\n",
       "    </tr>\n",
       "    <tr>\n",
       "      <th>4</th>\n",
       "      <td>Michael J Perona, DDS</td>\n",
       "      <td>General Dentistry, Cosmetic Dentists, Orthodon...</td>\n",
       "      <td>5</td>\n",
       "      <td>67</td>\n",
       "    </tr>\n",
       "    <tr>\n",
       "      <th>5</th>\n",
       "      <td>Robert Phong Ho, DDS</td>\n",
       "      <td>General Dentistry</td>\n",
       "      <td>5</td>\n",
       "      <td>111</td>\n",
       "    </tr>\n",
       "    <tr>\n",
       "      <th>6</th>\n",
       "      <td>Aesthetic Dentistry of Noe Valley</td>\n",
       "      <td>Cosmetic Dentists, General Dentistry, Endodont...</td>\n",
       "      <td>4.5</td>\n",
       "      <td>108</td>\n",
       "    </tr>\n",
       "    <tr>\n",
       "      <th>7</th>\n",
       "      <td>Lakeside Dental Care</td>\n",
       "      <td>General Dentistry</td>\n",
       "      <td>5</td>\n",
       "      <td>96</td>\n",
       "    </tr>\n",
       "    <tr>\n",
       "      <th>8</th>\n",
       "      <td>Zen Dental Studio</td>\n",
       "      <td>General Dentistry, Cosmetic Dentists, Orthodon...</td>\n",
       "      <td>5</td>\n",
       "      <td>80</td>\n",
       "    </tr>\n",
       "    <tr>\n",
       "      <th>9</th>\n",
       "      <td>Elias Qaré, DDS</td>\n",
       "      <td>General Dentistry</td>\n",
       "      <td>5</td>\n",
       "      <td>132</td>\n",
       "    </tr>\n",
       "  </tbody>\n",
       "</table>\n",
       "</div>"
      ],
      "text/plain": [
       "                                 Name  \\\n",
       "0                   All Smiles Dental   \n",
       "1       San Francisco Dental Artistry   \n",
       "2  Josh Berd, DDS - The Dentist Group   \n",
       "3                     David T Ho, DDS   \n",
       "4               Michael J Perona, DDS   \n",
       "5                Robert Phong Ho, DDS   \n",
       "6   Aesthetic Dentistry of Noe Valley   \n",
       "7                Lakeside Dental Care   \n",
       "8                   Zen Dental Studio   \n",
       "9                     Elias Qaré, DDS   \n",
       "\n",
       "                                           Expertise Stars Ratings  \n",
       "0     General Dentistry, Endodontists, Orthodontists    5      447  \n",
       "1               General Dentistry, Cosmetic Dentists    5      342  \n",
       "2  Cosmetic Dentists, General Dentistry, Orthodon...  4.5      228  \n",
       "3                                  General Dentistry    5      118  \n",
       "4  General Dentistry, Cosmetic Dentists, Orthodon...    5       67  \n",
       "5                                  General Dentistry    5      111  \n",
       "6  Cosmetic Dentists, General Dentistry, Endodont...  4.5      108  \n",
       "7                                  General Dentistry    5       96  \n",
       "8  General Dentistry, Cosmetic Dentists, Orthodon...    5       80  \n",
       "9                                  General Dentistry    5      132  "
      ]
     },
     "execution_count": 109,
     "metadata": {},
     "output_type": "execute_result"
    }
   ],
   "source": [
    "df['Expertise'] = df['Expertise'].apply(lambda x: x.replace('\\n', ', '))\n",
    "df['Stars'] = df['Stars'].apply(lambda x: x.replace('star rating',''))\n",
    "df"
   ]
  },
  {
   "cell_type": "code",
   "execution_count": null,
   "metadata": {},
   "outputs": [],
   "source": []
  },
  {
   "cell_type": "markdown",
   "metadata": {},
   "source": [
    "### Save Data in Excel"
   ]
  },
  {
   "cell_type": "code",
   "execution_count": 110,
   "metadata": {},
   "outputs": [],
   "source": [
    "df.to_excel('dentist_data.xlsx', index=False)"
   ]
  },
  {
   "cell_type": "code",
   "execution_count": null,
   "metadata": {},
   "outputs": [],
   "source": []
  }
 ],
 "metadata": {
  "kernelspec": {
   "display_name": "Python 3",
   "language": "python",
   "name": "python3"
  },
  "language_info": {
   "codemirror_mode": {
    "name": "ipython",
    "version": 3
   },
   "file_extension": ".py",
   "mimetype": "text/x-python",
   "name": "python",
   "nbconvert_exporter": "python",
   "pygments_lexer": "ipython3",
   "version": "3.9.0"
  }
 },
 "nbformat": 4,
 "nbformat_minor": 4
}
