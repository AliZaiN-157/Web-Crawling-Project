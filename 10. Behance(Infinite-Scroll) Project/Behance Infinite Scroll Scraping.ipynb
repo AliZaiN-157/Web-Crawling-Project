{
 "cells": [
  {
   "cell_type": "markdown",
   "metadata": {},
   "source": [
    "### Step 1 - Import Packages"
   ]
  },
  {
   "cell_type": "code",
   "execution_count": 1,
   "metadata": {},
   "outputs": [],
   "source": [
    "import requests\n",
    "import pandas as pd"
   ]
  },
  {
   "cell_type": "markdown",
   "metadata": {},
   "source": [
    "### Step 2 - Curl and Request"
   ]
  },
  {
   "cell_type": "code",
   "execution_count": 2,
   "metadata": {},
   "outputs": [],
   "source": [
    "\n",
    "headers = {\n",
    "    'authority': 'www.behance.net',\n",
    "    'sec-ch-ua': '^\\\\^Chromium^\\\\^;v=^\\\\^92^\\\\^, ^\\\\^',\n",
    "    'accept': '*/*',\n",
    "    'x-newrelic-id': 'VgUFVldbGwsFU1BRDwUBVw==',\n",
    "    'x-bcp': '864d2a91-cf32-438e-8d4e-aaf832cf05a3',\n",
    "    'x-requested-with': 'XMLHttpRequest',\n",
    "    'sec-ch-ua-mobile': '?1',\n",
    "    'user-agent': 'Mozilla/5.0 (Linux; Android 6.0; Nexus 5 Build/MRA58N) AppleWebKit/537.36 (KHTML, like Gecko) Chrome/92.0.4515.131 Mobile Safari/537.36',\n",
    "    'sec-fetch-site': 'same-origin',\n",
    "    'sec-fetch-mode': 'cors',\n",
    "    'sec-fetch-dest': 'empty',\n",
    "    'referer': 'https://www.behance.net/search/projects?field=architecture',\n",
    "    'accept-language': 'en-GB,en-US;q=0.9,en;q=0.8',\n",
    "    'cookie': 'gk_suid=14449939; gki=^%^7B^%^22native_lazy_loading^%^22^%^3Afalse^%^2C^%^22feature_hire_me_cta^%^22^%^3Afalse^%^2C^%^22search_recommended_images_with_field_factor^%^22^%^3Afalse^%^2C^%^22feature_stock_rail^%^22^%^3Afalse^%^2C^%^22feature_updated_profile_checklist^%^22^%^3Afalse^%^7D; bcp=864d2a91-cf32-438e-8d4e-aaf832cf05a3; AMCVS_9E1005A551ED61CA0A490D45^%^40AdobeOrg=1; OptanonConsent=isIABGlobal=false&datestamp=Sat+Aug+14+2021+18^%^3A49^%^3A00+GMT^%^2B0500+(Pakistan+Standard+Time)&version=6.9.0&hosts=&consentId=a09c228c-d36c-4da5-84a9-fbcaeb6809c9&interactionCount=0&landingPath=https^%^3A^%^2F^%^2Fwww.behance.net^%^2F&groups=C0001^%^3A1^%^2CC0002^%^3A1^%^2CC0003^%^3A1^%^2CC0004^%^3A1; feds_privacy_consent=^{^\\\\^hasUserProvidedConsent^\\\\^:true,^\\\\^userHasCustomConsent^\\\\^:false^}; s_sq=^%^5B^%^5BB^%^5D^%^5D; s_cc=true; AMCV_9E1005A551ED61CA0A490D45^%^40AdobeOrg=870038026^%^7CMCMID^%^7C17554576893896429813681669689520678946^%^7CMCAAMLH-1629553741^%^7C3^%^7CMCAAMB-1629553741^%^7CRKhpRz8krg2tLO6pguXWp5olkAcUniQYPHaMWWgdJ3xzPWQmdj0y^%^7CMCOPTOUT-1628956141s^%^7CNONE^%^7CMCAID^%^7CNONE^%^7CMCCIDH^%^7C-1753551331^%^7CvVersion^%^7C5.0.0; sign_up_prompt=true',\n",
    "}\n",
    "\n",
    "params = (\n",
    "    ('content', 'projects'),\n",
    "    ('field', 'architecture'),\n",
    "    ('ordinal', '0'),\n",
    ")\n",
    "\n",
    "response = requests.get('https://www.behance.net/search', headers=headers, params=params)\n"
   ]
  },
  {
   "cell_type": "markdown",
   "metadata": {},
   "source": [
    "### Step 3 - Check Status Code"
   ]
  },
  {
   "cell_type": "code",
   "execution_count": 3,
   "metadata": {},
   "outputs": [
    {
     "data": {
      "text/plain": [
       "<Response [200]>"
      ]
     },
     "execution_count": 3,
     "metadata": {},
     "output_type": "execute_result"
    }
   ],
   "source": [
    "response"
   ]
  },
  {
   "cell_type": "markdown",
   "metadata": {},
   "source": [
    "### Step 4 - Create JSON Objects"
   ]
  },
  {
   "cell_type": "code",
   "execution_count": 4,
   "metadata": {},
   "outputs": [],
   "source": [
    "results_json = response.json()"
   ]
  },
  {
   "cell_type": "markdown",
   "metadata": {},
   "source": [
    "### Step 5 - Output Keys\n"
   ]
  },
  {
   "cell_type": "code",
   "execution_count": 5,
   "metadata": {},
   "outputs": [
    {
     "data": {
      "text/plain": [
       "dict_keys(['search', 'creativeFields', 'tools', 'schools'])"
      ]
     },
     "execution_count": 5,
     "metadata": {},
     "output_type": "execute_result"
    }
   ],
   "source": [
    "results_json.keys()"
   ]
  },
  {
   "cell_type": "code",
   "execution_count": 18,
   "metadata": {},
   "outputs": [],
   "source": [
    "results_items = results_json['search']['content']['projects']"
   ]
  },
  {
   "cell_type": "markdown",
   "metadata": {},
   "source": [
    "### Step 6 - Find Your Data"
   ]
  },
  {
   "cell_type": "code",
   "execution_count": 19,
   "metadata": {},
   "outputs": [
    {
     "data": {
      "text/plain": [
       "48"
      ]
     },
     "execution_count": 19,
     "metadata": {},
     "output_type": "execute_result"
    }
   ],
   "source": [
    "len(results_items)"
   ]
  },
  {
   "cell_type": "code",
   "execution_count": 31,
   "metadata": {},
   "outputs": [
    {
     "data": {
      "text/plain": [
       "'https://www.behance.net/gallery/99738653/-I-W-S-'"
      ]
     },
     "execution_count": 31,
     "metadata": {},
     "output_type": "execute_result"
    }
   ],
   "source": [
    "# name\n",
    "results_items[0]['name']\n",
    "\n",
    "# first name\n",
    "results_item[0]['owners'][0]['first_name']\n",
    "\n",
    "# last name\n",
    "results_item[0]['owners'][0]['last_name']\n",
    "\n",
    "# user name\n",
    "results_item[0]['owners'][0]['username']\n",
    "\n",
    "# country\n",
    "results_item[0]['owners'][0]['country']\n",
    "\n",
    "# views\n",
    "results_item[0]['stats']['views']\n",
    "\n",
    "# appreciations\n",
    "results_item[0]['stats']['appreciations']\n",
    "\n",
    "# comments\n",
    "results_item[0]['stats']['comments']\n",
    "\n",
    "# url \n",
    "results_item[0]['url']\n"
   ]
  },
  {
   "cell_type": "markdown",
   "metadata": {},
   "source": [
    "### Step 7 - Put everything together\n",
    "#### Loop through results and append data inside a list"
   ]
  },
  {
   "cell_type": "code",
   "execution_count": 36,
   "metadata": {},
   "outputs": [],
   "source": [
    "name = []\n",
    "first_name = []\n",
    "last_name = []\n",
    "username = []\n",
    "country = []\n",
    "views = []\n",
    "appreciations = []\n",
    "comments = []\n",
    "url = []\n",
    "\n",
    "for results in results_items:\n",
    "    name.append(results['name'])\n",
    "    first_name.append(results['owners'][0]['first_name'])\n",
    "    last_name.append(results['owners'][0]['last_name'])\n",
    "    username.append(results['owners'][0]['username'])\n",
    "    country.append(results['owners'][0]['country'])\n",
    "    views.append(results['stats']['views'])\n",
    "    appreciations.append(results['stats']['appreciations'])\n",
    "    comments.append(results['stats']['comments'])\n",
    "    url.append(results['url'])\n",
    "    "
   ]
  },
  {
   "cell_type": "markdown",
   "metadata": {},
   "source": [
    "### Step 8 - Create Pandas DataFrame"
   ]
  },
  {
   "cell_type": "code",
   "execution_count": 38,
   "metadata": {},
   "outputs": [],
   "source": [
    "be_df = pd.DataFrame({'Name': name,\n",
    "                      'First Name': first_name,\n",
    "                      'Last Name': last_name,\n",
    "                      'Username': username,\n",
    "                      'Country' : country,\n",
    "                      'Views' : views,\n",
    "                      'Appreciations' : appreciations,\n",
    "                      'Comments': comments,\n",
    "                      'Url' : url\n",
    "                     })"
   ]
  },
  {
   "cell_type": "markdown",
   "metadata": {},
   "source": [
    "### Step 9 - DF to Excel"
   ]
  },
  {
   "cell_type": "code",
   "execution_count": 41,
   "metadata": {},
   "outputs": [],
   "source": [
    "be_df.to_excel('behance_single_page.xlsx', index=False)"
   ]
  },
  {
   "cell_type": "markdown",
   "metadata": {},
   "source": [
    "### Step 10 - Scraping Multiple Pages (10 pages to get 480 results)"
   ]
  },
  {
   "cell_type": "code",
   "execution_count": 42,
   "metadata": {},
   "outputs": [],
   "source": [
    "headers = {\n",
    "    'authority': 'www.behance.net',\n",
    "    'sec-ch-ua': '^\\\\^Chromium^\\\\^;v=^\\\\^92^\\\\^, ^\\\\^',\n",
    "    'accept': '*/*',\n",
    "    'x-newrelic-id': 'VgUFVldbGwsFU1BRDwUBVw==',\n",
    "    'x-bcp': '864d2a91-cf32-438e-8d4e-aaf832cf05a3',\n",
    "    'x-requested-with': 'XMLHttpRequest',\n",
    "    'sec-ch-ua-mobile': '?1',\n",
    "    'user-agent': 'Mozilla/5.0 (Linux; Android 6.0; Nexus 5 Build/MRA58N) AppleWebKit/537.36 (KHTML, like Gecko) Chrome/92.0.4515.131 Mobile Safari/537.36',\n",
    "    'sec-fetch-site': 'same-origin',\n",
    "    'sec-fetch-mode': 'cors',\n",
    "    'sec-fetch-dest': 'empty',\n",
    "    'referer': 'https://www.behance.net/search/projects?field=architecture',\n",
    "    'accept-language': 'en-GB,en-US;q=0.9,en;q=0.8',\n",
    "    'cookie': 'gk_suid=14449939; gki=^%^7B^%^22native_lazy_loading^%^22^%^3Afalse^%^2C^%^22feature_hire_me_cta^%^22^%^3Afalse^%^2C^%^22search_recommended_images_with_field_factor^%^22^%^3Afalse^%^2C^%^22feature_stock_rail^%^22^%^3Afalse^%^2C^%^22feature_updated_profile_checklist^%^22^%^3Afalse^%^7D; bcp=864d2a91-cf32-438e-8d4e-aaf832cf05a3; AMCVS_9E1005A551ED61CA0A490D45^%^40AdobeOrg=1; OptanonConsent=isIABGlobal=false&datestamp=Sat+Aug+14+2021+18^%^3A49^%^3A00+GMT^%^2B0500+(Pakistan+Standard+Time)&version=6.9.0&hosts=&consentId=a09c228c-d36c-4da5-84a9-fbcaeb6809c9&interactionCount=0&landingPath=https^%^3A^%^2F^%^2Fwww.behance.net^%^2F&groups=C0001^%^3A1^%^2CC0002^%^3A1^%^2CC0003^%^3A1^%^2CC0004^%^3A1; feds_privacy_consent=^{^\\\\^hasUserProvidedConsent^\\\\^:true,^\\\\^userHasCustomConsent^\\\\^:false^}; s_sq=^%^5B^%^5BB^%^5D^%^5D; s_cc=true; AMCV_9E1005A551ED61CA0A490D45^%^40AdobeOrg=870038026^%^7CMCMID^%^7C17554576893896429813681669689520678946^%^7CMCAAMLH-1629553741^%^7C3^%^7CMCAAMB-1629553741^%^7CRKhpRz8krg2tLO6pguXWp5olkAcUniQYPHaMWWgdJ3xzPWQmdj0y^%^7CMCOPTOUT-1628956141s^%^7CNONE^%^7CMCAID^%^7CNONE^%^7CMCCIDH^%^7C-1753551331^%^7CvVersion^%^7C5.0.0; sign_up_prompt=true',\n",
    "}\n",
    "\n",
    "name = []\n",
    "first_name = []\n",
    "last_name = []\n",
    "username = []\n",
    "country = []\n",
    "views = []\n",
    "appreciations = []\n",
    "comments = []\n",
    "url = []\n",
    "\n",
    "# scrape 10 pages\n",
    "for i in range(0,480,48):\n",
    "\n",
    "\n",
    "    params = (\n",
    "        ('content', 'projects'),\n",
    "        ('field', 'architecture'),\n",
    "        ('ordinal', str(i)),\n",
    "    )\n",
    "\n",
    "    response = requests.get('https://www.behance.net/search', headers=headers, params=params)\n",
    "    \n",
    "    results_json = response.json()\n",
    "    results_items = results_json['search']['content']['projects']\n",
    "    \n",
    "    for results in results_items:\n",
    "        name.append(results['name'])\n",
    "        first_name.append(results['owners'][0]['first_name'])\n",
    "        last_name.append(results['owners'][0]['last_name'])\n",
    "        username.append(results['owners'][0]['username'])\n",
    "        country.append(results['owners'][0]['country'])\n",
    "        views.append(results['stats']['views'])\n",
    "        appreciations.append(results['stats']['appreciations'])\n",
    "        comments.append(results['stats']['comments'])\n",
    "        url.append(results['url'])"
   ]
  },
  {
   "cell_type": "code",
   "execution_count": 43,
   "metadata": {},
   "outputs": [],
   "source": [
    "be_df2 = pd.DataFrame({'Name': name,\n",
    "                      'First Name': first_name,\n",
    "                      'Last Name': last_name,\n",
    "                      'Username': username,\n",
    "                      'Country' : country,\n",
    "                      'Views' : views,\n",
    "                      'Appreciations' : appreciations,\n",
    "                      'Comments': comments,\n",
    "                      'Url' : url\n",
    "                     })"
   ]
  },
  {
   "cell_type": "code",
   "execution_count": 46,
   "metadata": {},
   "outputs": [
    {
     "data": {
      "text/plain": [
       "(480, 9)"
      ]
     },
     "execution_count": 46,
     "metadata": {},
     "output_type": "execute_result"
    }
   ],
   "source": [
    "be_df2.shape"
   ]
  },
  {
   "cell_type": "code",
   "execution_count": 47,
   "metadata": {},
   "outputs": [],
   "source": [
    "be_df2.to_excel('behance_multiple_pages.xlsx', index=False)"
   ]
  },
  {
   "cell_type": "code",
   "execution_count": null,
   "metadata": {},
   "outputs": [],
   "source": []
  }
 ],
 "metadata": {
  "kernelspec": {
   "display_name": "Python 3",
   "language": "python",
   "name": "python3"
  },
  "language_info": {
   "codemirror_mode": {
    "name": "ipython",
    "version": 3
   },
   "file_extension": ".py",
   "mimetype": "text/x-python",
   "name": "python",
   "nbconvert_exporter": "python",
   "pygments_lexer": "ipython3",
   "version": "3.9.0"
  }
 },
 "nbformat": 4,
 "nbformat_minor": 4
}
