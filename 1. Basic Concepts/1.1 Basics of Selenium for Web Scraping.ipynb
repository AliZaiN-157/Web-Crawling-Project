{
 "cells": [
  {
   "cell_type": "markdown",
   "metadata": {},
   "source": [
    "### Part 1 - Set Up"
   ]
  },
  {
   "cell_type": "code",
   "execution_count": 2,
   "metadata": {},
   "outputs": [],
   "source": [
    "#import Packages\n",
    "from selenium import webdriver\n",
    "from selenium.webdriver.common.keys import Keys\n",
    "from selenium.webdriver.common.by import By\n",
    "from selenium.webdriver.chrome.options import Options\n",
    "import time"
   ]
  },
  {
   "cell_type": "code",
   "execution_count": 3,
   "metadata": {},
   "outputs": [],
   "source": [
    "# website\n",
    "\n",
    "website_1 = 'https://www.geekbuying.com/search?keyword=laptop'\n",
    "website_2 = 'http://automationpractice.com/index.php'"
   ]
  },
  {
   "cell_type": "code",
   "execution_count": 8,
   "metadata": {},
   "outputs": [],
   "source": [
    "#intialize Chrome driver\n",
    "driver = webdriver.Chrome('C:\\webdrivers\\chromedriver.exe')\n",
    "driver.get(website_1)\n",
    "\n",
    "#maximize window\n",
    "driver.maximize_window()"
   ]
  },
  {
   "cell_type": "markdown",
   "metadata": {},
   "source": [
    "### Part 2 - Locaters"
   ]
  },
  {
   "cell_type": "markdown",
   "metadata": {},
   "source": [
    "#### Xpath - Locator"
   ]
  },
  {
   "cell_type": "code",
   "execution_count": 11,
   "metadata": {},
   "outputs": [
    {
     "data": {
      "text/plain": [
       "'$365.99'"
      ]
     },
     "execution_count": 11,
     "metadata": {},
     "output_type": "execute_result"
    }
   ],
   "source": [
    "price = driver.find_element_by_xpath('(//li[@class=\"searchResultItem\"]/div/div[3])[1]')\n",
    "price.text"
   ]
  },
  {
   "cell_type": "code",
   "execution_count": 20,
   "metadata": {},
   "outputs": [
    {
     "data": {
      "text/plain": [
       "40"
      ]
     },
     "execution_count": 20,
     "metadata": {},
     "output_type": "execute_result"
    }
   ],
   "source": [
    "prices = driver.find_elements_by_xpath('//li[@class=\"searchResultItem\"]/div/div[3]')\n",
    "len(prices)"
   ]
  },
  {
   "cell_type": "code",
   "execution_count": 22,
   "metadata": {},
   "outputs": [
    {
     "name": "stdout",
     "output_type": "stream",
     "text": [
      "$365.99\n",
      "$59.99\n",
      "$29.99\n",
      "$9.99\n",
      "$11.99\n",
      "$26.99\n",
      "$23.59\n",
      "$24.99\n",
      "$1469.99\n",
      "$29.99\n",
      "$62.99\n",
      "$49.99\n",
      "$26.99\n",
      "$33.99\n",
      "$49.99\n",
      "$9.99\n",
      "$63.99\n",
      "$63.99\n",
      "$29.99\n",
      "$13.99\n",
      "$16.99\n",
      "$11.99\n",
      "$729.99\n",
      "$9.99\n",
      "$679.99\n",
      "$31.99\n",
      "$719.99\n",
      "$24.99\n",
      "$419.99\n",
      "$409.99\n",
      "$399.99\n",
      "$369.99\n",
      "$389.99\n",
      "$33.99\n",
      "$29.99\n",
      "$49.99\n",
      "$24.99\n",
      "$1449.99\n",
      "$1159.99\n",
      "$14.59\n"
     ]
    }
   ],
   "source": [
    "for p in prices:\n",
    "    print(p.text)"
   ]
  },
  {
   "cell_type": "markdown",
   "metadata": {},
   "source": [
    "#### Class Name - Locator"
   ]
  },
  {
   "cell_type": "code",
   "execution_count": 24,
   "metadata": {},
   "outputs": [
    {
     "data": {
      "text/plain": [
       "40"
      ]
     },
     "execution_count": 24,
     "metadata": {},
     "output_type": "execute_result"
    }
   ],
   "source": [
    "names = driver.find_elements_by_class_name('name')\n",
    "len(names)"
   ]
  },
  {
   "cell_type": "code",
   "execution_count": 25,
   "metadata": {},
   "outputs": [
    {
     "name": "stdout",
     "output_type": "stream",
     "text": [
      "ALLDOCUBE KNote X Pro Tablet Laptop Intel Gemini Lake N4100 13.3 Inch 1080P FHD Screen Windows 10 8GB RAM 128GB ROM - Grey\n",
      "Keyboard for One Netbook ONEXPLAYER Game Console Tablet PC Laptop\n",
      "Carrying Case Bag for One Netbook ONEXPLAYER Game Console Tablet PC Laptop\n",
      "Portable Foldable Laptop Cooling Stand 4 Height Adjustable Non-slip Silicone For 11-17 Inch Notebook Tablet - White\n",
      "Protective Case for 8.9 Inch Magic-Ben MAG1 Pocket Laptop - Black\n",
      "Logitech Pebble Wireless Mouse Bluetooth 2.4GHz Mute Dual Modes Portable For PC - White\n",
      "A878 114-key LED Backlit Wired USB Gaming Keyboard Adjustable Brightness With Crack Pattern For Desktop / - Black\n",
      "Original Charger for One Netbook One Mix 2S Yoga Pocket Laptop - Black\n",
      "One Netbook 4 Platinum Laptop 360 Degree YOGA 10.1\" Touch Screen Intel Core i7-1160G7 16GB DDR4 RAM 1TB PCI-E SSD WiFi 6 Windows 10 Fingerprint - Black\n",
      "Logitech G300S Wired Gaming Mouse 9 Programmable Keys 2500DPI Ergonomic Shape For PC / - Black\n",
      "Logitech G502 HERO Proteus Spectrum Wired Adaptive Gaming Mouse 12000DPI USB Computer Mouse For PC / - Black\n",
      "Logitech C270 HD Vid 720P Webcam With MIC Micphone Video Calling for Android TV Box/PC/\n",
      "Logitech Pebble Wireless Mouse Bluetooth 2.4GHz Mute Dual Modes Portable For PC - Black\n",
      "Logitech G302 Daedalus Prime MOBA Wired Optical Gaming Mouse Lightweight Design 4000 DPI For PC / - Black\n",
      "Xiaomi Wowstick 1F + Electric Screwdriver Bits Toolkit for Reparing Phone Toy Laptop Digital Product - Gray\n",
      "PU Leather Protective Case for 8.4\" One Netbook One Mix 3 / 3S Yoga Pocket Laptop - Black\n",
      "Xiaomi 23L Sports Leisure Backpack Waterproof 15.6-inch Laptop Bag Outdoor Travel Rucksack - Gray\n",
      "Xiaomi 23L Sports Leisure Backpack Waterproof 15.6-inch Laptop Bag Outdoor Travel Rucksack - Black\n",
      "Xiaomi Portable Mouse Mi Mouse Bluetooth 4.0 / RF 2.4GHz Wireless Dual Modes Connection for PC - Silver\n",
      "PU Leather Protective Case for 7\" One Netbook One Mix 2 / 2S Yoga Pocket Laptop - Black\n",
      "Xiaomi Wireless Mouse 2 Mute Portable Ultra-thin 2.4G Wireless 1000DPI For PC -White\n",
      "PU Leather Protective Case for 8.4\" One Netbook One Mix 3 Pro Yoga Pocket Laptop - Black\n",
      "One Netbook A1 360 Degree 2 in 1 Pocket Laptop Intel M3-8100Y 8GB RAM 512GB PCIe SSD + Original Stylus Pen + Protective Case\n",
      "USB Converter Hub 3*USB + 1*SD + 1*TF For Laptop Notebooks - Black\n",
      "One Netbook A1 360 Degree 2 in 1 Pocket Laptop Intel M3-8100Y 8GB RAM 256GB PCIe SSD + Original Stylus Pen\n",
      "HXSJ S3 1080P HD Webcam 5MP Auto Focus Built-in Microphone Adjustable Angle Support Video Conference For Desktop PC / - Black\n",
      "One Netbook A1 360 Degree 2 in 1 Pocket Laptop Intel M3-8100Y 8GB RAM 512GB PCIe SSD + Original Stylus Pen\n",
      "HXSJ S90 720P HD Webcam USB Compatible Adjustable Angle Automatic Color Correction Built-in Sound-absorbing Microphone For Desktop TV - Black\n",
      "Cenava PA156G Laptop Intel Celeron J4125 15.6 Inch 1920*1080 Windows 10 8GB RAM 512GB SSD - Silver\n",
      "DERE X156 15.6 Inch Laptop Intel Celeron J4115 1920*1080 FHD 8GB DDR4 512G SSD Windows 10 HDMI Output - Silver\n",
      "Cenava PA156G Laptop Intel Celeron J4125 15.6 Inch 1920*1080 Windows 10 8GB RAM 256GB SSD - Silver\n",
      "Cenava PA156G Laptop Intel Celeron J4125 15.6 Inch 1920*1080 Windows 10 8GB RAM 128GB SSD - Silver\n",
      "DERE X156 15.6 Inch Laptop Intel Celeron J4115 1920*1080 FHD 8GB DDR4 256G SSD Windows 10 HDMI Output - Silver\n",
      "ASHU H800 1080P HD Webcam Built-In Microphone Auto Color Correction Support CC2000 TARGET ICQ For Desktop - Black\n",
      "Tronsmart Glary Gaming Headset 7.1 Virtual Surround Sound Stereo Sound with Colorful LED Lighting USB Interface Mic for PC\n",
      "Xiaomi UREVO 25L Multi-functional Backpack Waterproof 15-inch Laptop Bag Outdoor Travel Rucksack From Xiaomi Youpin- Black\n",
      "Maxmemory X200 64GB SATA3 High Speed SSD 2.5 Inch Solid State Drive Hard Disk For PC - Black\n",
      "One Netbook OneGx1 Gaming Laptop 7-inch 1920x1200 i5-10210Y 16GB RAM 512GB SSD WiFi 6 Windows 10 5G Version - Blue\n",
      "One Netbook ONEXPLAYER Game Console PC 8.4 Inch Pocket Computer i7-1165G7 16G RAM 1TB SSD IPS Touch Screen Windows 10 US Plug\n",
      "HXSJ S20 480P HD Webcam 12 Million Pixels Manually Focus Built-in Microphone Adjustable Angle For Desktop Computer - Black\n"
     ]
    }
   ],
   "source": [
    "for name in names:\n",
    "    print(name.text)"
   ]
  },
  {
   "cell_type": "markdown",
   "metadata": {},
   "source": [
    "#### ID - Locator"
   ]
  },
  {
   "cell_type": "code",
   "execution_count": 4,
   "metadata": {},
   "outputs": [],
   "source": [
    "#intialize Chrome driver\n",
    "driver = webdriver.Chrome('C:\\webdrivers\\chromedriver.exe')\n",
    "driver.get(website_2)\n",
    "\n",
    "#maximize window\n",
    "driver.maximize_window()\n",
    "time.sleep(1)\n",
    "\n",
    "search = driver.find_element_by_id('search_query_top')\n",
    "\n",
    "search.click()\n",
    "time.sleep(1)\n",
    "search.send_keys('hellohello')"
   ]
  },
  {
   "cell_type": "code",
   "execution_count": null,
   "metadata": {},
   "outputs": [],
   "source": []
  },
  {
   "cell_type": "markdown",
   "metadata": {},
   "source": [
    "#### Name - Locator"
   ]
  },
  {
   "cell_type": "code",
   "execution_count": 5,
   "metadata": {},
   "outputs": [],
   "source": [
    "search_button = driver.find_element_by_name('submit_search')\n",
    "search_button.click()"
   ]
  },
  {
   "cell_type": "markdown",
   "metadata": {},
   "source": [
    "#### Link Text - Locator"
   ]
  },
  {
   "cell_type": "code",
   "execution_count": 10,
   "metadata": {},
   "outputs": [],
   "source": [
    "contact = driver.find_element_by_link_text('Contact us')"
   ]
  },
  {
   "cell_type": "markdown",
   "metadata": {},
   "source": [
    "#### Partial Link Text - Locator"
   ]
  },
  {
   "cell_type": "code",
   "execution_count": 12,
   "metadata": {},
   "outputs": [],
   "source": [
    "contact_partial = driver.find_element_by_partial_link_text('Contact us')\n",
    "contact_partial.click()"
   ]
  },
  {
   "cell_type": "code",
   "execution_count": null,
   "metadata": {},
   "outputs": [],
   "source": []
  },
  {
   "cell_type": "markdown",
   "metadata": {},
   "source": [
    "### Part 3 - Different ways to use Locator"
   ]
  },
  {
   "cell_type": "code",
   "execution_count": null,
   "metadata": {},
   "outputs": [],
   "source": [
    "# Option 1 - XPath Locator\n",
    "prices = driver.find_elements_by_xpath('//li[@class=\"searchResultItem\"]/div/div[3]')\n",
    "\n",
    "# Option 1 - ID Locator\n",
    "search = driver.find_element_by_id('search_query_top')\n"
   ]
  },
  {
   "cell_type": "code",
   "execution_count": null,
   "metadata": {},
   "outputs": [],
   "source": [
    "# Option 2 - Xpath Locator\n",
    "prices_2 = driver.find_elements(By.XPATH('//li[@class=\"searchResultItem\"]/div/div[3]'))\n",
    "\n",
    "#Option 1 - ID Locator\n",
    "search_2 = driver.find_element(By.ID('search_query_top'))"
   ]
  },
  {
   "cell_type": "markdown",
   "metadata": {},
   "source": [
    "### Part 4 - Selenium Action"
   ]
  },
  {
   "cell_type": "code",
   "execution_count": 13,
   "metadata": {},
   "outputs": [],
   "source": [
    "#intialize Chrome driver\n",
    "driver = webdriver.Chrome('C:\\webdrivers\\chromedriver.exe')\n",
    "driver.get(website_2)\n",
    "\n",
    "#maximize window\n",
    "driver.maximize_window()\n",
    "time.sleep(1)\n",
    "\n",
    "# Send and Type Keys\n",
    "search = driver.find_element_by_id('search_query_top')\n",
    "search.click()\n",
    "time.sleep(1)\n",
    "search.send_keys('hellohello')\n",
    "time.sleep(1)\n",
    "\n",
    "#submit search\n",
    "search_button = driver.find_element_by_name('submit_search')\n",
    "search_button.click()\n",
    "\n",
    "#go back\n",
    "driver.back()\n",
    "time.sleep(1)\n",
    "\n",
    "#Click COntact us\n",
    "contact_us= driver.find_element_by_link_text('Contact us')\n",
    "contact_us.click()\n",
    "time.sleep(1)\n",
    "\n",
    "#close driver\n",
    "driver.close()"
   ]
  },
  {
   "cell_type": "markdown",
   "metadata": {},
   "source": [
    "#### Headless Mode of Selenium"
   ]
  },
  {
   "cell_type": "code",
   "execution_count": 14,
   "metadata": {},
   "outputs": [
    {
     "name": "stdout",
     "output_type": "stream",
     "text": [
      "Website was Opened\n",
      "Search Request was submitted\n",
      "Go Back to the Home Page\n",
      "Contact Us Details\n"
     ]
    }
   ],
   "source": [
    "chrome_options = Options()\n",
    "chrome_options.add_argument('--headless')\n",
    "\n",
    "#intialize Chrome driver\n",
    "driver = webdriver.Chrome('C:\\webdrivers\\chromedriver.exe', options=chrome_options)\n",
    "driver.get(website_2)\n",
    "\n",
    "print('Website was Opened')\n",
    "\n",
    "#maximize window\n",
    "driver.maximize_window()\n",
    "time.sleep(1)\n",
    "\n",
    "# Send and Type Keys\n",
    "search = driver.find_element_by_id('search_query_top')\n",
    "search.click()\n",
    "time.sleep(1)\n",
    "search.send_keys('hellohello')\n",
    "time.sleep(1)\n",
    "\n",
    "print('Search Request was submitted')\n",
    "\n",
    "\n",
    "#submit search\n",
    "search_button = driver.find_element_by_name('submit_search')\n",
    "search_button.click()\n",
    "\n",
    "#go back\n",
    "driver.back()\n",
    "time.sleep(1)\n",
    "\n",
    "print('Go Back to the Home Page')\n",
    "\n",
    "#Click COntact us\n",
    "contact_us= driver.find_element_by_link_text('Contact us')\n",
    "contact_us.click()\n",
    "time.sleep(1)\n",
    "\n",
    "print('Contact Us Details')\n",
    "\n",
    "#close driver\n",
    "driver.close()"
   ]
  },
  {
   "cell_type": "code",
   "execution_count": null,
   "metadata": {},
   "outputs": [],
   "source": []
  }
 ],
 "metadata": {
  "kernelspec": {
   "display_name": "Python 3",
   "language": "python",
   "name": "python3"
  },
  "language_info": {
   "codemirror_mode": {
    "name": "ipython",
    "version": 3
   },
   "file_extension": ".py",
   "mimetype": "text/x-python",
   "name": "python",
   "nbconvert_exporter": "python",
   "pygments_lexer": "ipython3",
   "version": "3.9.0"
  }
 },
 "nbformat": 4,
 "nbformat_minor": 4
}
