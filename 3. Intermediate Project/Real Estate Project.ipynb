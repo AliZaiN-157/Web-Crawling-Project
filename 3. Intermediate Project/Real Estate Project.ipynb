{
 "cells": [
  {
   "cell_type": "markdown",
   "metadata": {},
   "source": [
    "### Imports"
   ]
  },
  {
   "cell_type": "code",
   "execution_count": 2,
   "metadata": {},
   "outputs": [],
   "source": [
    "from bs4 import BeautifulSoup\n",
    "import requests\n",
    "import pandas as pd"
   ]
  },
  {
   "cell_type": "markdown",
   "metadata": {},
   "source": [
    "### HTTP Request"
   ]
  },
  {
   "cell_type": "markdown",
   "metadata": {},
   "source": [
    "#### store website in variable"
   ]
  },
  {
   "cell_type": "code",
   "execution_count": 3,
   "metadata": {},
   "outputs": [],
   "source": [
    "website = \"https://www.trulia.com/CA/San_Francisco/\""
   ]
  },
  {
   "cell_type": "markdown",
   "metadata": {},
   "source": [
    "#### Get Request"
   ]
  },
  {
   "cell_type": "code",
   "execution_count": 4,
   "metadata": {},
   "outputs": [],
   "source": [
    "response = requests.get(website)"
   ]
  },
  {
   "cell_type": "markdown",
   "metadata": {},
   "source": [
    "#### Status Code"
   ]
  },
  {
   "cell_type": "code",
   "execution_count": 5,
   "metadata": {},
   "outputs": [
    {
     "data": {
      "text/plain": [
       "200"
      ]
     },
     "execution_count": 5,
     "metadata": {},
     "output_type": "execute_result"
    }
   ],
   "source": [
    "response.status_code"
   ]
  },
  {
   "cell_type": "markdown",
   "metadata": {},
   "source": [
    "### Soup Object"
   ]
  },
  {
   "cell_type": "code",
   "execution_count": 6,
   "metadata": {},
   "outputs": [],
   "source": [
    "soup = BeautifulSoup(response.content,'html.parser')"
   ]
  },
  {
   "cell_type": "markdown",
   "metadata": {},
   "source": [
    "### Results"
   ]
  },
  {
   "cell_type": "code",
   "execution_count": 7,
   "metadata": {},
   "outputs": [
    {
     "data": {
      "text/plain": [
       "32"
      ]
     },
     "execution_count": 7,
     "metadata": {},
     "output_type": "execute_result"
    }
   ],
   "source": [
    "results = soup.find_all('li', {'class':'SearchResultsList__WideCell-b7y9ki-2'})\n",
    "len(results)"
   ]
  },
  {
   "cell_type": "code",
   "execution_count": null,
   "metadata": {},
   "outputs": [],
   "source": []
  },
  {
   "cell_type": "markdown",
   "metadata": {},
   "source": [
    "### Update Result"
   ]
  },
  {
   "cell_type": "markdown",
   "metadata": {},
   "source": [
    "we just want to target the elements which have the attribute 'data-testid'"
   ]
  },
  {
   "cell_type": "code",
   "execution_count": 8,
   "metadata": {},
   "outputs": [],
   "source": [
    "results_update=[]"
   ]
  },
  {
   "cell_type": "code",
   "execution_count": 9,
   "metadata": {},
   "outputs": [],
   "source": [
    "for r in results:\n",
    "    if r.has_attr('data-testid'):\n",
    "        results_update.append(r)"
   ]
  },
  {
   "cell_type": "code",
   "execution_count": 10,
   "metadata": {},
   "outputs": [
    {
     "data": {
      "text/plain": [
       "30"
      ]
     },
     "execution_count": 10,
     "metadata": {},
     "output_type": "execute_result"
    }
   ],
   "source": [
    "len(results_update)"
   ]
  },
  {
   "cell_type": "markdown",
   "metadata": {},
   "source": [
    "### Target Necessary Data"
   ]
  },
  {
   "cell_type": "markdown",
   "metadata": {},
   "source": [
    "Street"
   ]
  },
  {
   "cell_type": "code",
   "execution_count": 14,
   "metadata": {},
   "outputs": [
    {
     "data": {
      "text/plain": [
       "'4366 25th St'"
      ]
     },
     "execution_count": 14,
     "metadata": {},
     "output_type": "execute_result"
    }
   ],
   "source": [
    "results_update[0].find('div',{'data-testid':'property-street'}).get('title')"
   ]
  },
  {
   "cell_type": "markdown",
   "metadata": {},
   "source": [
    "Region"
   ]
  },
  {
   "cell_type": "code",
   "execution_count": 16,
   "metadata": {},
   "outputs": [
    {
     "data": {
      "text/plain": [
       "'Noe Valley, San Francisco, CA'"
      ]
     },
     "execution_count": 16,
     "metadata": {},
     "output_type": "execute_result"
    }
   ],
   "source": [
    "results_update[0].find('div',{'data-testid':'property-region'}).get('title')"
   ]
  },
  {
   "cell_type": "markdown",
   "metadata": {},
   "source": [
    "Bedrooms\n"
   ]
  },
  {
   "cell_type": "code",
   "execution_count": 18,
   "metadata": {},
   "outputs": [
    {
     "data": {
      "text/plain": [
       "'3bd'"
      ]
     },
     "execution_count": 18,
     "metadata": {},
     "output_type": "execute_result"
    }
   ],
   "source": [
    "results_update[0].find('div',{'data-testid':'property-beds'}).get_text()"
   ]
  },
  {
   "cell_type": "markdown",
   "metadata": {},
   "source": [
    "Bathrooms"
   ]
  },
  {
   "cell_type": "code",
   "execution_count": 19,
   "metadata": {},
   "outputs": [
    {
     "data": {
      "text/plain": [
       "'2ba'"
      ]
     },
     "execution_count": 19,
     "metadata": {},
     "output_type": "execute_result"
    }
   ],
   "source": [
    "results_update[0].find('div',{'data-testid':'property-baths'}).get_text()"
   ]
  },
  {
   "cell_type": "markdown",
   "metadata": {},
   "source": [
    "Price"
   ]
  },
  {
   "cell_type": "code",
   "execution_count": 20,
   "metadata": {},
   "outputs": [
    {
     "data": {
      "text/plain": [
       "'$1,795,000'"
      ]
     },
     "execution_count": 20,
     "metadata": {},
     "output_type": "execute_result"
    }
   ],
   "source": [
    "results_update[0].find('div',{'data-testid':'property-price'}).get('title')"
   ]
  },
  {
   "cell_type": "markdown",
   "metadata": {},
   "source": [
    "### Append all Results in List with List Comprehension"
   ]
  },
  {
   "cell_type": "code",
   "execution_count": 26,
   "metadata": {},
   "outputs": [],
   "source": [
    "streets = [result.find('div',{'data-testid':'property-street'}).get('title') for result in results_update]\n",
    "regions = [result.find('div',{'data-testid':'property-region'}).get('title') for result in results_update]\n",
    "bedrooms = [result.find('div',{'data-testid':'property-beds'}).get_text() for result in results_update]\n",
    "bathrooms = [result.find('div',{'data-testid':'property-baths'}).get_text() for result in results_update]\n",
    "prices = [result.find('div',{'data-testid':'property-price'}).get('title') for result in results_update]"
   ]
  },
  {
   "cell_type": "code",
   "execution_count": null,
   "metadata": {},
   "outputs": [],
   "source": []
  },
  {
   "cell_type": "markdown",
   "metadata": {},
   "source": [
    "### Create Pandas DataFrame"
   ]
  },
  {
   "cell_type": "code",
   "execution_count": 31,
   "metadata": {},
   "outputs": [],
   "source": [
    "real_estate = pd.DataFrame({'Street':streets, 'Region':regions , 'Bedrooms':bedrooms , 'Bathrooms':bathrooms, 'Price':prices })"
   ]
  },
  {
   "cell_type": "code",
   "execution_count": 32,
   "metadata": {},
   "outputs": [
    {
     "data": {
      "text/html": [
       "<div>\n",
       "<style scoped>\n",
       "    .dataframe tbody tr th:only-of-type {\n",
       "        vertical-align: middle;\n",
       "    }\n",
       "\n",
       "    .dataframe tbody tr th {\n",
       "        vertical-align: top;\n",
       "    }\n",
       "\n",
       "    .dataframe thead th {\n",
       "        text-align: right;\n",
       "    }\n",
       "</style>\n",
       "<table border=\"1\" class=\"dataframe\">\n",
       "  <thead>\n",
       "    <tr style=\"text-align: right;\">\n",
       "      <th></th>\n",
       "      <th>Street</th>\n",
       "      <th>Region</th>\n",
       "      <th>Bedrooms</th>\n",
       "      <th>Bathrooms</th>\n",
       "      <th>Price</th>\n",
       "    </tr>\n",
       "  </thead>\n",
       "  <tbody>\n",
       "    <tr>\n",
       "      <th>0</th>\n",
       "      <td>4366 25th St</td>\n",
       "      <td>Noe Valley, San Francisco, CA</td>\n",
       "      <td>3bd</td>\n",
       "      <td>2ba</td>\n",
       "      <td>$1,795,000</td>\n",
       "    </tr>\n",
       "    <tr>\n",
       "      <th>1</th>\n",
       "      <td>990 Hollister Ave</td>\n",
       "      <td>Bret Harte, San Francisco, CA</td>\n",
       "      <td>3bd</td>\n",
       "      <td>2ba</td>\n",
       "      <td>$859,000</td>\n",
       "    </tr>\n",
       "    <tr>\n",
       "      <th>2</th>\n",
       "      <td>2582 Filbert St</td>\n",
       "      <td>Cow Hollow, San Francisco, CA</td>\n",
       "      <td>6bd</td>\n",
       "      <td>9ba</td>\n",
       "      <td>$46,000,000</td>\n",
       "    </tr>\n",
       "    <tr>\n",
       "      <th>3</th>\n",
       "      <td>520 Miramar Ave</td>\n",
       "      <td>Westwood Park, San Francisco, CA</td>\n",
       "      <td>3bd</td>\n",
       "      <td>2ba</td>\n",
       "      <td>$998,000</td>\n",
       "    </tr>\n",
       "    <tr>\n",
       "      <th>4</th>\n",
       "      <td>2698 Pacific Ave</td>\n",
       "      <td>Pacific Heights, San Francisco, CA</td>\n",
       "      <td>8bd</td>\n",
       "      <td>8ba</td>\n",
       "      <td>$25,800,000</td>\n",
       "    </tr>\n",
       "    <tr>\n",
       "      <th>5</th>\n",
       "      <td>70 Crestlake Dr</td>\n",
       "      <td>Parkside, San Francisco, CA</td>\n",
       "      <td>3bd</td>\n",
       "      <td>3ba</td>\n",
       "      <td>$1,495,000</td>\n",
       "    </tr>\n",
       "    <tr>\n",
       "      <th>6</th>\n",
       "      <td>720 Laguna Honda Blvd</td>\n",
       "      <td>Laguna Honda, San Francisco, CA</td>\n",
       "      <td>5bd</td>\n",
       "      <td>2ba</td>\n",
       "      <td>$1,995,000</td>\n",
       "    </tr>\n",
       "    <tr>\n",
       "      <th>7</th>\n",
       "      <td>42 Mars St</td>\n",
       "      <td>Eureka Valley, San Francisco, CA</td>\n",
       "      <td>3bd</td>\n",
       "      <td>3ba</td>\n",
       "      <td>$2,600,000</td>\n",
       "    </tr>\n",
       "    <tr>\n",
       "      <th>8</th>\n",
       "      <td>2018 42nd Ave</td>\n",
       "      <td>Outer Sunset, San Francisco, CA</td>\n",
       "      <td>2bd</td>\n",
       "      <td>1ba</td>\n",
       "      <td>$899,000</td>\n",
       "    </tr>\n",
       "    <tr>\n",
       "      <th>9</th>\n",
       "      <td>348 Eureka St</td>\n",
       "      <td>Eureka Valley, San Francisco, CA</td>\n",
       "      <td>4bd</td>\n",
       "      <td>4ba</td>\n",
       "      <td>$2,495,000</td>\n",
       "    </tr>\n",
       "    <tr>\n",
       "      <th>10</th>\n",
       "      <td>2919 California St</td>\n",
       "      <td>Lower Pacific Heights, San Francisco, CA</td>\n",
       "      <td>4bd</td>\n",
       "      <td>4ba</td>\n",
       "      <td>$3,500,000</td>\n",
       "    </tr>\n",
       "    <tr>\n",
       "      <th>11</th>\n",
       "      <td>882 Moultrie St</td>\n",
       "      <td>Bernal Heights, San Francisco, CA</td>\n",
       "      <td>3bd</td>\n",
       "      <td>2ba</td>\n",
       "      <td>$995,000</td>\n",
       "    </tr>\n",
       "    <tr>\n",
       "      <th>12</th>\n",
       "      <td>1468 Van Dyke Ave</td>\n",
       "      <td>Bayview, San Francisco, CA</td>\n",
       "      <td>2bd</td>\n",
       "      <td>1ba</td>\n",
       "      <td>$680,000</td>\n",
       "    </tr>\n",
       "    <tr>\n",
       "      <th>13</th>\n",
       "      <td>870 Harrison St #405</td>\n",
       "      <td>South of Market, San Francisco, CA</td>\n",
       "      <td>2bd</td>\n",
       "      <td>1ba</td>\n",
       "      <td>$369,563</td>\n",
       "    </tr>\n",
       "    <tr>\n",
       "      <th>14</th>\n",
       "      <td>2695 23rd Ave</td>\n",
       "      <td>Parkside, San Francisco, CA</td>\n",
       "      <td>4bd</td>\n",
       "      <td>3ba</td>\n",
       "      <td>$1,399,000</td>\n",
       "    </tr>\n",
       "    <tr>\n",
       "      <th>15</th>\n",
       "      <td>600 Gates St</td>\n",
       "      <td>Bernal Heights, San Francisco, CA</td>\n",
       "      <td>3bd</td>\n",
       "      <td>3ba</td>\n",
       "      <td>$2,095,000</td>\n",
       "    </tr>\n",
       "    <tr>\n",
       "      <th>16</th>\n",
       "      <td>2219 Pacific Ave</td>\n",
       "      <td>Pacific Heights, San Francisco, CA</td>\n",
       "      <td>5bd</td>\n",
       "      <td>5ba</td>\n",
       "      <td>$6,850,000</td>\n",
       "    </tr>\n",
       "    <tr>\n",
       "      <th>17</th>\n",
       "      <td>151 Hearst Ave</td>\n",
       "      <td>Sunnyside, San Francisco, CA</td>\n",
       "      <td>3bd</td>\n",
       "      <td>1ba</td>\n",
       "      <td>$1,159,000</td>\n",
       "    </tr>\n",
       "    <tr>\n",
       "      <th>18</th>\n",
       "      <td>1921 Washington St</td>\n",
       "      <td>Pacific Heights, San Francisco, CA</td>\n",
       "      <td>5bd</td>\n",
       "      <td>6ba</td>\n",
       "      <td>$4,995,000</td>\n",
       "    </tr>\n",
       "    <tr>\n",
       "      <th>19</th>\n",
       "      <td>333 Haight St #3</td>\n",
       "      <td>Mint Hill, San Francisco, CA</td>\n",
       "      <td>3bd</td>\n",
       "      <td>2ba</td>\n",
       "      <td>$850,000</td>\n",
       "    </tr>\n",
       "    <tr>\n",
       "      <th>20</th>\n",
       "      <td>4366 26th St</td>\n",
       "      <td>Noe Valley, San Francisco, CA</td>\n",
       "      <td>4bd</td>\n",
       "      <td>3ba</td>\n",
       "      <td>$3,295,000</td>\n",
       "    </tr>\n",
       "    <tr>\n",
       "      <th>21</th>\n",
       "      <td>400 Pioche St</td>\n",
       "      <td>University Mound, San Francisco, CA</td>\n",
       "      <td>3bd</td>\n",
       "      <td>2ba</td>\n",
       "      <td>$1,249,000</td>\n",
       "    </tr>\n",
       "    <tr>\n",
       "      <th>22</th>\n",
       "      <td>610 Ortega St</td>\n",
       "      <td>Golden Gate Heights, San Francisco, CA</td>\n",
       "      <td>4bd</td>\n",
       "      <td>5ba</td>\n",
       "      <td>$4,375,000</td>\n",
       "    </tr>\n",
       "    <tr>\n",
       "      <th>23</th>\n",
       "      <td>2082 36th Ave</td>\n",
       "      <td>Parkside, San Francisco, CA</td>\n",
       "      <td>3bd</td>\n",
       "      <td>2ba</td>\n",
       "      <td>$1,295,000</td>\n",
       "    </tr>\n",
       "    <tr>\n",
       "      <th>24</th>\n",
       "      <td>126 Clayton St</td>\n",
       "      <td>Panhandle, San Francisco, CA</td>\n",
       "      <td>3bd</td>\n",
       "      <td>3ba</td>\n",
       "      <td>$1,595,000</td>\n",
       "    </tr>\n",
       "    <tr>\n",
       "      <th>25</th>\n",
       "      <td>38 Lusk St #2</td>\n",
       "      <td>South of Market, San Francisco, CA</td>\n",
       "      <td>2bd</td>\n",
       "      <td>2ba</td>\n",
       "      <td>$1,249,000</td>\n",
       "    </tr>\n",
       "    <tr>\n",
       "      <th>26</th>\n",
       "      <td>1785 Geneva Ave</td>\n",
       "      <td>Crocker Amazon, San Francisco, CA</td>\n",
       "      <td>2bd</td>\n",
       "      <td>1ba</td>\n",
       "      <td>$849,000</td>\n",
       "    </tr>\n",
       "    <tr>\n",
       "      <th>27</th>\n",
       "      <td>80 Beachmont Dr</td>\n",
       "      <td>Merced Manor, San Francisco, CA</td>\n",
       "      <td>3bd</td>\n",
       "      <td>3ba</td>\n",
       "      <td>$1,895,000</td>\n",
       "    </tr>\n",
       "    <tr>\n",
       "      <th>28</th>\n",
       "      <td>3276 Harrison St</td>\n",
       "      <td>Bernal Heights, San Francisco, CA</td>\n",
       "      <td>2bd</td>\n",
       "      <td>1ba</td>\n",
       "      <td>$1,695,000</td>\n",
       "    </tr>\n",
       "    <tr>\n",
       "      <th>29</th>\n",
       "      <td>3239 Webster St</td>\n",
       "      <td>Marina, San Francisco, CA</td>\n",
       "      <td>3bd</td>\n",
       "      <td>4ba</td>\n",
       "      <td>$5,195,000</td>\n",
       "    </tr>\n",
       "  </tbody>\n",
       "</table>\n",
       "</div>"
      ],
      "text/plain": [
       "                   Street                                    Region Bedrooms  \\\n",
       "0            4366 25th St             Noe Valley, San Francisco, CA      3bd   \n",
       "1       990 Hollister Ave             Bret Harte, San Francisco, CA      3bd   \n",
       "2         2582 Filbert St             Cow Hollow, San Francisco, CA      6bd   \n",
       "3         520 Miramar Ave          Westwood Park, San Francisco, CA      3bd   \n",
       "4        2698 Pacific Ave        Pacific Heights, San Francisco, CA      8bd   \n",
       "5         70 Crestlake Dr               Parkside, San Francisco, CA      3bd   \n",
       "6   720 Laguna Honda Blvd           Laguna Honda, San Francisco, CA      5bd   \n",
       "7              42 Mars St          Eureka Valley, San Francisco, CA      3bd   \n",
       "8           2018 42nd Ave           Outer Sunset, San Francisco, CA      2bd   \n",
       "9           348 Eureka St          Eureka Valley, San Francisco, CA      4bd   \n",
       "10     2919 California St  Lower Pacific Heights, San Francisco, CA      4bd   \n",
       "11        882 Moultrie St         Bernal Heights, San Francisco, CA      3bd   \n",
       "12      1468 Van Dyke Ave                Bayview, San Francisco, CA      2bd   \n",
       "13   870 Harrison St #405        South of Market, San Francisco, CA      2bd   \n",
       "14          2695 23rd Ave               Parkside, San Francisco, CA      4bd   \n",
       "15           600 Gates St         Bernal Heights, San Francisco, CA      3bd   \n",
       "16       2219 Pacific Ave        Pacific Heights, San Francisco, CA      5bd   \n",
       "17         151 Hearst Ave              Sunnyside, San Francisco, CA      3bd   \n",
       "18     1921 Washington St        Pacific Heights, San Francisco, CA      5bd   \n",
       "19       333 Haight St #3              Mint Hill, San Francisco, CA      3bd   \n",
       "20           4366 26th St             Noe Valley, San Francisco, CA      4bd   \n",
       "21          400 Pioche St       University Mound, San Francisco, CA      3bd   \n",
       "22          610 Ortega St    Golden Gate Heights, San Francisco, CA      4bd   \n",
       "23          2082 36th Ave               Parkside, San Francisco, CA      3bd   \n",
       "24         126 Clayton St              Panhandle, San Francisco, CA      3bd   \n",
       "25          38 Lusk St #2        South of Market, San Francisco, CA      2bd   \n",
       "26        1785 Geneva Ave         Crocker Amazon, San Francisco, CA      2bd   \n",
       "27        80 Beachmont Dr           Merced Manor, San Francisco, CA      3bd   \n",
       "28       3276 Harrison St         Bernal Heights, San Francisco, CA      2bd   \n",
       "29        3239 Webster St                 Marina, San Francisco, CA      3bd   \n",
       "\n",
       "   Bathrooms        Price  \n",
       "0        2ba   $1,795,000  \n",
       "1        2ba     $859,000  \n",
       "2        9ba  $46,000,000  \n",
       "3        2ba     $998,000  \n",
       "4        8ba  $25,800,000  \n",
       "5        3ba   $1,495,000  \n",
       "6        2ba   $1,995,000  \n",
       "7        3ba   $2,600,000  \n",
       "8        1ba     $899,000  \n",
       "9        4ba   $2,495,000  \n",
       "10       4ba   $3,500,000  \n",
       "11       2ba     $995,000  \n",
       "12       1ba     $680,000  \n",
       "13       1ba     $369,563  \n",
       "14       3ba   $1,399,000  \n",
       "15       3ba   $2,095,000  \n",
       "16       5ba   $6,850,000  \n",
       "17       1ba   $1,159,000  \n",
       "18       6ba   $4,995,000  \n",
       "19       2ba     $850,000  \n",
       "20       3ba   $3,295,000  \n",
       "21       2ba   $1,249,000  \n",
       "22       5ba   $4,375,000  \n",
       "23       2ba   $1,295,000  \n",
       "24       3ba   $1,595,000  \n",
       "25       2ba   $1,249,000  \n",
       "26       1ba     $849,000  \n",
       "27       3ba   $1,895,000  \n",
       "28       1ba   $1,695,000  \n",
       "29       4ba   $5,195,000  "
      ]
     },
     "execution_count": 32,
     "metadata": {},
     "output_type": "execute_result"
    }
   ],
   "source": [
    "real_estate"
   ]
  },
  {
   "cell_type": "markdown",
   "metadata": {},
   "source": [
    "### Save Excel File"
   ]
  },
  {
   "cell_type": "code",
   "execution_count": 33,
   "metadata": {},
   "outputs": [],
   "source": [
    "real_estate.to_excel('real_estate_page_1.xlsx', index=False)"
   ]
  },
  {
   "cell_type": "code",
   "execution_count": null,
   "metadata": {},
   "outputs": [],
   "source": []
  }
 ],
 "metadata": {
  "kernelspec": {
   "display_name": "Python 3",
   "language": "python",
   "name": "python3"
  },
  "language_info": {
   "codemirror_mode": {
    "name": "ipython",
    "version": 3
   },
   "file_extension": ".py",
   "mimetype": "text/x-python",
   "name": "python",
   "nbconvert_exporter": "python",
   "pygments_lexer": "ipython3",
   "version": "3.9.0"
  }
 },
 "nbformat": 4,
 "nbformat_minor": 4
}
