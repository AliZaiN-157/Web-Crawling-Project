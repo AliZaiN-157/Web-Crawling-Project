{
 "cells": [
  {
   "cell_type": "markdown",
   "metadata": {},
   "source": [
    "### Imports"
   ]
  },
  {
   "cell_type": "code",
   "execution_count": 1,
   "metadata": {},
   "outputs": [],
   "source": [
    "from bs4 import BeautifulSoup\n",
    "import requests\n",
    "import pandas as pd"
   ]
  },
  {
   "cell_type": "markdown",
   "metadata": {},
   "source": [
    "### HTTP Request"
   ]
  },
  {
   "cell_type": "markdown",
   "metadata": {},
   "source": [
    "#### store website in variable"
   ]
  },
  {
   "cell_type": "code",
   "execution_count": 4,
   "metadata": {},
   "outputs": [],
   "source": [
    "website = \"https://www.trulia.com/CA/San_Francisco/\""
   ]
  },
  {
   "cell_type": "markdown",
   "metadata": {},
   "source": [
    "#### Get Request"
   ]
  },
  {
   "cell_type": "code",
   "execution_count": 5,
   "metadata": {},
   "outputs": [],
   "source": [
    "response = requests.get(website)"
   ]
  },
  {
   "cell_type": "markdown",
   "metadata": {},
   "source": [
    "#### Status Code"
   ]
  },
  {
   "cell_type": "code",
   "execution_count": 6,
   "metadata": {},
   "outputs": [
    {
     "data": {
      "text/plain": [
       "200"
      ]
     },
     "execution_count": 6,
     "metadata": {},
     "output_type": "execute_result"
    }
   ],
   "source": [
    "response.status_code"
   ]
  },
  {
   "cell_type": "markdown",
   "metadata": {},
   "source": [
    "### Soup Object"
   ]
  },
  {
   "cell_type": "code",
   "execution_count": 7,
   "metadata": {},
   "outputs": [],
   "source": [
    "soup = BeautifulSoup(response.content,'html.parser')"
   ]
  },
  {
   "cell_type": "markdown",
   "metadata": {},
   "source": [
    "### Results"
   ]
  },
  {
   "cell_type": "code",
   "execution_count": 8,
   "metadata": {},
   "outputs": [
    {
     "data": {
      "text/plain": [
       "32"
      ]
     },
     "execution_count": 8,
     "metadata": {},
     "output_type": "execute_result"
    }
   ],
   "source": [
    "results = soup.find_all('li', {'class':'SearchResultsList__WideCell-b7y9ki-2'})\n",
    "len(results)"
   ]
  },
  {
   "cell_type": "code",
   "execution_count": null,
   "metadata": {},
   "outputs": [],
   "source": []
  },
  {
   "cell_type": "markdown",
   "metadata": {},
   "source": [
    "### Update Result"
   ]
  },
  {
   "cell_type": "markdown",
   "metadata": {},
   "source": [
    "we just want to target the elements which have the attribute 'data-testid'"
   ]
  },
  {
   "cell_type": "code",
   "execution_count": 9,
   "metadata": {},
   "outputs": [],
   "source": [
    "results_update=[]"
   ]
  },
  {
   "cell_type": "code",
   "execution_count": 10,
   "metadata": {},
   "outputs": [],
   "source": [
    "for r in results:\n",
    "    if r.has_attr('data-testid'):\n",
    "        results_update.append(r)"
   ]
  },
  {
   "cell_type": "code",
   "execution_count": 11,
   "metadata": {},
   "outputs": [
    {
     "data": {
      "text/plain": [
       "30"
      ]
     },
     "execution_count": 11,
     "metadata": {},
     "output_type": "execute_result"
    }
   ],
   "source": [
    "len(results_update)"
   ]
  },
  {
   "cell_type": "markdown",
   "metadata": {},
   "source": [
    "### Target Necessary Data"
   ]
  },
  {
   "cell_type": "markdown",
   "metadata": {},
   "source": [
    "Street"
   ]
  },
  {
   "cell_type": "code",
   "execution_count": 12,
   "metadata": {},
   "outputs": [
    {
     "data": {
      "text/plain": [
       "'2018 42nd Ave'"
      ]
     },
     "execution_count": 12,
     "metadata": {},
     "output_type": "execute_result"
    }
   ],
   "source": [
    "results_update[0].find('div',{'data-testid':'property-street'}).get('title')"
   ]
  },
  {
   "cell_type": "markdown",
   "metadata": {},
   "source": [
    "Region"
   ]
  },
  {
   "cell_type": "code",
   "execution_count": 13,
   "metadata": {},
   "outputs": [
    {
     "data": {
      "text/plain": [
       "'Outer Sunset, San Francisco, CA'"
      ]
     },
     "execution_count": 13,
     "metadata": {},
     "output_type": "execute_result"
    }
   ],
   "source": [
    "results_update[0].find('div',{'data-testid':'property-region'}).get('title')"
   ]
  },
  {
   "cell_type": "markdown",
   "metadata": {},
   "source": [
    "Bedrooms\n"
   ]
  },
  {
   "cell_type": "code",
   "execution_count": 14,
   "metadata": {},
   "outputs": [
    {
     "data": {
      "text/plain": [
       "'2bd'"
      ]
     },
     "execution_count": 14,
     "metadata": {},
     "output_type": "execute_result"
    }
   ],
   "source": [
    "results_update[0].find('div',{'data-testid':'property-beds'}).get_text()"
   ]
  },
  {
   "cell_type": "markdown",
   "metadata": {},
   "source": [
    "Bathrooms"
   ]
  },
  {
   "cell_type": "code",
   "execution_count": 15,
   "metadata": {},
   "outputs": [
    {
     "data": {
      "text/plain": [
       "'1ba'"
      ]
     },
     "execution_count": 15,
     "metadata": {},
     "output_type": "execute_result"
    }
   ],
   "source": [
    "results_update[0].find('div',{'data-testid':'property-baths'}).get_text()"
   ]
  },
  {
   "cell_type": "markdown",
   "metadata": {},
   "source": [
    "Price"
   ]
  },
  {
   "cell_type": "code",
   "execution_count": 16,
   "metadata": {},
   "outputs": [
    {
     "data": {
      "text/plain": [
       "'$899,000'"
      ]
     },
     "execution_count": 16,
     "metadata": {},
     "output_type": "execute_result"
    }
   ],
   "source": [
    "results_update[0].find('div',{'data-testid':'property-price'}).get('title')"
   ]
  },
  {
   "cell_type": "markdown",
   "metadata": {},
   "source": [
    "### Append all Results in List with List Comprehension"
   ]
  },
  {
   "cell_type": "code",
   "execution_count": 17,
   "metadata": {},
   "outputs": [],
   "source": [
    "streets = [result.find('div',{'data-testid':'property-street'}).get('title') for result in results_update]\n",
    "regions = [result.find('div',{'data-testid':'property-region'}).get('title') for result in results_update]\n",
    "bedrooms = [result.find('div',{'data-testid':'property-beds'}).get_text() for result in results_update]\n",
    "bathrooms = [result.find('div',{'data-testid':'property-baths'}).get_text() for result in results_update]\n",
    "prices = [result.find('div',{'data-testid':'property-price'}).get('title') for result in results_update]"
   ]
  },
  {
   "cell_type": "code",
   "execution_count": 21,
   "metadata": {},
   "outputs": [
    {
     "data": {
      "text/plain": [
       "['1ba',\n",
       " '2ba',\n",
       " '7ba',\n",
       " '6ba',\n",
       " '3ba',\n",
       " '1ba',\n",
       " '9ba',\n",
       " '1ba',\n",
       " '2ba',\n",
       " '2ba',\n",
       " '5ba',\n",
       " '1ba',\n",
       " '3ba',\n",
       " '8ba',\n",
       " '1ba',\n",
       " '2ba',\n",
       " '3ba',\n",
       " '1ba',\n",
       " '1ba',\n",
       " '3ba',\n",
       " '1ba',\n",
       " '9ba',\n",
       " '1ba',\n",
       " '5ba',\n",
       " '6ba',\n",
       " '2ba',\n",
       " '5ba',\n",
       " '1ba',\n",
       " '4ba',\n",
       " '3ba']"
      ]
     },
     "execution_count": 21,
     "metadata": {},
     "output_type": "execute_result"
    }
   ],
   "source": [
    "bathrooms"
   ]
  },
  {
   "cell_type": "markdown",
   "metadata": {},
   "source": [
    "### Create Pandas DataFrame"
   ]
  },
  {
   "cell_type": "code",
   "execution_count": 18,
   "metadata": {},
   "outputs": [],
   "source": [
    "real_estate = pd.DataFrame({'Street':streets, 'Region':regions , 'Bedrooms':bedrooms , 'Bathrooms':bathrooms, 'Price':prices })"
   ]
  },
  {
   "cell_type": "code",
   "execution_count": 19,
   "metadata": {},
   "outputs": [
    {
     "data": {
      "text/html": [
       "<div>\n",
       "<style scoped>\n",
       "    .dataframe tbody tr th:only-of-type {\n",
       "        vertical-align: middle;\n",
       "    }\n",
       "\n",
       "    .dataframe tbody tr th {\n",
       "        vertical-align: top;\n",
       "    }\n",
       "\n",
       "    .dataframe thead th {\n",
       "        text-align: right;\n",
       "    }\n",
       "</style>\n",
       "<table border=\"1\" class=\"dataframe\">\n",
       "  <thead>\n",
       "    <tr style=\"text-align: right;\">\n",
       "      <th></th>\n",
       "      <th>Street</th>\n",
       "      <th>Region</th>\n",
       "      <th>Bedrooms</th>\n",
       "      <th>Bathrooms</th>\n",
       "      <th>Price</th>\n",
       "    </tr>\n",
       "  </thead>\n",
       "  <tbody>\n",
       "    <tr>\n",
       "      <th>0</th>\n",
       "      <td>2018 42nd Ave</td>\n",
       "      <td>Outer Sunset, San Francisco, CA</td>\n",
       "      <td>2bd</td>\n",
       "      <td>1ba</td>\n",
       "      <td>$899,000</td>\n",
       "    </tr>\n",
       "    <tr>\n",
       "      <th>1</th>\n",
       "      <td>4366 25th St</td>\n",
       "      <td>Noe Valley, San Francisco, CA</td>\n",
       "      <td>3bd</td>\n",
       "      <td>2ba</td>\n",
       "      <td>$1,795,000</td>\n",
       "    </tr>\n",
       "    <tr>\n",
       "      <th>2</th>\n",
       "      <td>224 Sea Cliff Ave</td>\n",
       "      <td>Seacliff, San Francisco, CA</td>\n",
       "      <td>6bd</td>\n",
       "      <td>7ba</td>\n",
       "      <td>$15,375,000</td>\n",
       "    </tr>\n",
       "    <tr>\n",
       "      <th>3</th>\n",
       "      <td>45 Capra Way</td>\n",
       "      <td>Marina, San Francisco, CA</td>\n",
       "      <td>4bd</td>\n",
       "      <td>6ba</td>\n",
       "      <td>$10,300,000</td>\n",
       "    </tr>\n",
       "    <tr>\n",
       "      <th>4</th>\n",
       "      <td>122 Chicago Way</td>\n",
       "      <td>Crocker Amazon, San Francisco, CA</td>\n",
       "      <td>4bd</td>\n",
       "      <td>3ba</td>\n",
       "      <td>$1,095,000</td>\n",
       "    </tr>\n",
       "    <tr>\n",
       "      <th>5</th>\n",
       "      <td>3321 Moraga St</td>\n",
       "      <td>Outer Sunset, San Francisco, CA</td>\n",
       "      <td>2bd</td>\n",
       "      <td>1ba</td>\n",
       "      <td>$1,185,000</td>\n",
       "    </tr>\n",
       "    <tr>\n",
       "      <th>6</th>\n",
       "      <td>2582 Filbert St</td>\n",
       "      <td>Cow Hollow, San Francisco, CA</td>\n",
       "      <td>6bd</td>\n",
       "      <td>9ba</td>\n",
       "      <td>$46,000,000</td>\n",
       "    </tr>\n",
       "    <tr>\n",
       "      <th>7</th>\n",
       "      <td>2446 47th Ave</td>\n",
       "      <td>Outer Sunset, San Francisco, CA</td>\n",
       "      <td>2bd</td>\n",
       "      <td>1ba</td>\n",
       "      <td>$1,295,000</td>\n",
       "    </tr>\n",
       "    <tr>\n",
       "      <th>8</th>\n",
       "      <td>627 Paris St</td>\n",
       "      <td>Excelsior, San Francisco, CA</td>\n",
       "      <td>3bd</td>\n",
       "      <td>2ba</td>\n",
       "      <td>$988,000</td>\n",
       "    </tr>\n",
       "    <tr>\n",
       "      <th>9</th>\n",
       "      <td>720 Laguna Honda Blvd</td>\n",
       "      <td>Laguna Honda, San Francisco, CA</td>\n",
       "      <td>5bd</td>\n",
       "      <td>2ba</td>\n",
       "      <td>$1,995,000</td>\n",
       "    </tr>\n",
       "    <tr>\n",
       "      <th>10</th>\n",
       "      <td>2219 Pacific Ave</td>\n",
       "      <td>Pacific Heights, San Francisco, CA</td>\n",
       "      <td>5bd</td>\n",
       "      <td>5ba</td>\n",
       "      <td>$6,850,000</td>\n",
       "    </tr>\n",
       "    <tr>\n",
       "      <th>11</th>\n",
       "      <td>1701 Grove St #1</td>\n",
       "      <td>Panhandle, San Francisco, CA</td>\n",
       "      <td>2bd</td>\n",
       "      <td>1ba</td>\n",
       "      <td>$995,000</td>\n",
       "    </tr>\n",
       "    <tr>\n",
       "      <th>12</th>\n",
       "      <td>70 Crestlake Dr</td>\n",
       "      <td>Parkside, San Francisco, CA</td>\n",
       "      <td>3bd</td>\n",
       "      <td>3ba</td>\n",
       "      <td>$1,495,000</td>\n",
       "    </tr>\n",
       "    <tr>\n",
       "      <th>13</th>\n",
       "      <td>2698 Pacific Ave</td>\n",
       "      <td>Pacific Heights, San Francisco, CA</td>\n",
       "      <td>8bd</td>\n",
       "      <td>8ba</td>\n",
       "      <td>$25,800,000</td>\n",
       "    </tr>\n",
       "    <tr>\n",
       "      <th>14</th>\n",
       "      <td>1125A Church St</td>\n",
       "      <td>Dolores Heights, San Francisco, CA</td>\n",
       "      <td>1bd</td>\n",
       "      <td>1ba</td>\n",
       "      <td>$695,000</td>\n",
       "    </tr>\n",
       "    <tr>\n",
       "      <th>15</th>\n",
       "      <td>333 Haight St #3</td>\n",
       "      <td>Mint Hill, San Francisco, CA</td>\n",
       "      <td>3bd</td>\n",
       "      <td>2ba</td>\n",
       "      <td>$850,000</td>\n",
       "    </tr>\n",
       "    <tr>\n",
       "      <th>16</th>\n",
       "      <td>2695 23rd Ave</td>\n",
       "      <td>Parkside, San Francisco, CA</td>\n",
       "      <td>4bd</td>\n",
       "      <td>3ba</td>\n",
       "      <td>$1,399,000</td>\n",
       "    </tr>\n",
       "    <tr>\n",
       "      <th>17</th>\n",
       "      <td>870 Harrison St #405</td>\n",
       "      <td>South of Market, San Francisco, CA</td>\n",
       "      <td>2bd</td>\n",
       "      <td>1ba</td>\n",
       "      <td>$369,563</td>\n",
       "    </tr>\n",
       "    <tr>\n",
       "      <th>18</th>\n",
       "      <td>106 Clipper St</td>\n",
       "      <td>Noe Valley, San Francisco, CA</td>\n",
       "      <td>3bd</td>\n",
       "      <td>1ba</td>\n",
       "      <td>$1,395,000</td>\n",
       "    </tr>\n",
       "    <tr>\n",
       "      <th>19</th>\n",
       "      <td>126 Clayton St</td>\n",
       "      <td>Panhandle, San Francisco, CA</td>\n",
       "      <td>3bd</td>\n",
       "      <td>3ba</td>\n",
       "      <td>$1,595,000</td>\n",
       "    </tr>\n",
       "    <tr>\n",
       "      <th>20</th>\n",
       "      <td>1685 Cayuga Ave</td>\n",
       "      <td>Outer Mission, San Francisco, CA</td>\n",
       "      <td>3bd</td>\n",
       "      <td>1ba</td>\n",
       "      <td>$1,049,000</td>\n",
       "    </tr>\n",
       "    <tr>\n",
       "      <th>21</th>\n",
       "      <td>2828 Vallejo St</td>\n",
       "      <td>Pacific Heights, San Francisco, CA</td>\n",
       "      <td>8bd</td>\n",
       "      <td>9ba</td>\n",
       "      <td>$28,000,000</td>\n",
       "    </tr>\n",
       "    <tr>\n",
       "      <th>22</th>\n",
       "      <td>662 Hearst Ave</td>\n",
       "      <td>Sunnyside, San Francisco, CA</td>\n",
       "      <td>2bd</td>\n",
       "      <td>1ba</td>\n",
       "      <td>$945,000</td>\n",
       "    </tr>\n",
       "    <tr>\n",
       "      <th>23</th>\n",
       "      <td>10 Sea Cliff Ave</td>\n",
       "      <td>Seacliff, San Francisco, CA</td>\n",
       "      <td>4bd</td>\n",
       "      <td>5ba</td>\n",
       "      <td>$6,500,000</td>\n",
       "    </tr>\n",
       "    <tr>\n",
       "      <th>24</th>\n",
       "      <td>1921 Washington St</td>\n",
       "      <td>Pacific Heights, San Francisco, CA</td>\n",
       "      <td>5bd</td>\n",
       "      <td>6ba</td>\n",
       "      <td>$4,995,000</td>\n",
       "    </tr>\n",
       "    <tr>\n",
       "      <th>25</th>\n",
       "      <td>607-607A Arkansas St</td>\n",
       "      <td>Potrero Hill, San Francisco, CA</td>\n",
       "      <td>4bd</td>\n",
       "      <td>2ba</td>\n",
       "      <td>$1,150,000</td>\n",
       "    </tr>\n",
       "    <tr>\n",
       "      <th>26</th>\n",
       "      <td>610 Ortega St</td>\n",
       "      <td>Golden Gate Heights, San Francisco, CA</td>\n",
       "      <td>4bd</td>\n",
       "      <td>5ba</td>\n",
       "      <td>$4,375,000</td>\n",
       "    </tr>\n",
       "    <tr>\n",
       "      <th>27</th>\n",
       "      <td>1695 18th St #308</td>\n",
       "      <td>Potrero Hill, San Francisco, CA</td>\n",
       "      <td>Studio</td>\n",
       "      <td>1ba</td>\n",
       "      <td>$257,158</td>\n",
       "    </tr>\n",
       "    <tr>\n",
       "      <th>28</th>\n",
       "      <td>2919 California St</td>\n",
       "      <td>Lower Pacific Heights, San Francisco, CA</td>\n",
       "      <td>4bd</td>\n",
       "      <td>4ba</td>\n",
       "      <td>$3,500,000</td>\n",
       "    </tr>\n",
       "    <tr>\n",
       "      <th>29</th>\n",
       "      <td>4366 26th St</td>\n",
       "      <td>Noe Valley, San Francisco, CA</td>\n",
       "      <td>4bd</td>\n",
       "      <td>3ba</td>\n",
       "      <td>$3,295,000</td>\n",
       "    </tr>\n",
       "  </tbody>\n",
       "</table>\n",
       "</div>"
      ],
      "text/plain": [
       "                   Street                                    Region Bedrooms  \\\n",
       "0           2018 42nd Ave           Outer Sunset, San Francisco, CA      2bd   \n",
       "1            4366 25th St             Noe Valley, San Francisco, CA      3bd   \n",
       "2       224 Sea Cliff Ave               Seacliff, San Francisco, CA      6bd   \n",
       "3            45 Capra Way                 Marina, San Francisco, CA      4bd   \n",
       "4         122 Chicago Way         Crocker Amazon, San Francisco, CA      4bd   \n",
       "5          3321 Moraga St           Outer Sunset, San Francisco, CA      2bd   \n",
       "6         2582 Filbert St             Cow Hollow, San Francisco, CA      6bd   \n",
       "7           2446 47th Ave           Outer Sunset, San Francisco, CA      2bd   \n",
       "8            627 Paris St              Excelsior, San Francisco, CA      3bd   \n",
       "9   720 Laguna Honda Blvd           Laguna Honda, San Francisco, CA      5bd   \n",
       "10       2219 Pacific Ave        Pacific Heights, San Francisco, CA      5bd   \n",
       "11       1701 Grove St #1              Panhandle, San Francisco, CA      2bd   \n",
       "12        70 Crestlake Dr               Parkside, San Francisco, CA      3bd   \n",
       "13       2698 Pacific Ave        Pacific Heights, San Francisco, CA      8bd   \n",
       "14        1125A Church St        Dolores Heights, San Francisco, CA      1bd   \n",
       "15       333 Haight St #3              Mint Hill, San Francisco, CA      3bd   \n",
       "16          2695 23rd Ave               Parkside, San Francisco, CA      4bd   \n",
       "17   870 Harrison St #405        South of Market, San Francisco, CA      2bd   \n",
       "18         106 Clipper St             Noe Valley, San Francisco, CA      3bd   \n",
       "19         126 Clayton St              Panhandle, San Francisco, CA      3bd   \n",
       "20        1685 Cayuga Ave          Outer Mission, San Francisco, CA      3bd   \n",
       "21        2828 Vallejo St        Pacific Heights, San Francisco, CA      8bd   \n",
       "22         662 Hearst Ave              Sunnyside, San Francisco, CA      2bd   \n",
       "23       10 Sea Cliff Ave               Seacliff, San Francisco, CA      4bd   \n",
       "24     1921 Washington St        Pacific Heights, San Francisco, CA      5bd   \n",
       "25   607-607A Arkansas St           Potrero Hill, San Francisco, CA      4bd   \n",
       "26          610 Ortega St    Golden Gate Heights, San Francisco, CA      4bd   \n",
       "27      1695 18th St #308           Potrero Hill, San Francisco, CA   Studio   \n",
       "28     2919 California St  Lower Pacific Heights, San Francisco, CA      4bd   \n",
       "29           4366 26th St             Noe Valley, San Francisco, CA      4bd   \n",
       "\n",
       "   Bathrooms        Price  \n",
       "0        1ba     $899,000  \n",
       "1        2ba   $1,795,000  \n",
       "2        7ba  $15,375,000  \n",
       "3        6ba  $10,300,000  \n",
       "4        3ba   $1,095,000  \n",
       "5        1ba   $1,185,000  \n",
       "6        9ba  $46,000,000  \n",
       "7        1ba   $1,295,000  \n",
       "8        2ba     $988,000  \n",
       "9        2ba   $1,995,000  \n",
       "10       5ba   $6,850,000  \n",
       "11       1ba     $995,000  \n",
       "12       3ba   $1,495,000  \n",
       "13       8ba  $25,800,000  \n",
       "14       1ba     $695,000  \n",
       "15       2ba     $850,000  \n",
       "16       3ba   $1,399,000  \n",
       "17       1ba     $369,563  \n",
       "18       1ba   $1,395,000  \n",
       "19       3ba   $1,595,000  \n",
       "20       1ba   $1,049,000  \n",
       "21       9ba  $28,000,000  \n",
       "22       1ba     $945,000  \n",
       "23       5ba   $6,500,000  \n",
       "24       6ba   $4,995,000  \n",
       "25       2ba   $1,150,000  \n",
       "26       5ba   $4,375,000  \n",
       "27       1ba     $257,158  \n",
       "28       4ba   $3,500,000  \n",
       "29       3ba   $3,295,000  "
      ]
     },
     "execution_count": 19,
     "metadata": {},
     "output_type": "execute_result"
    }
   ],
   "source": [
    "real_estate"
   ]
  },
  {
   "cell_type": "markdown",
   "metadata": {},
   "source": [
    "### Save Excel File"
   ]
  },
  {
   "cell_type": "code",
   "execution_count": 20,
   "metadata": {},
   "outputs": [],
   "source": [
    "real_estate.to_excel('real_estate_page_1.xlsx', index=False)"
   ]
  },
  {
   "cell_type": "code",
   "execution_count": null,
   "metadata": {},
   "outputs": [],
   "source": []
  }
 ],
 "metadata": {
  "kernelspec": {
   "display_name": "Python 3",
   "language": "python",
   "name": "python3"
  },
  "language_info": {
   "codemirror_mode": {
    "name": "ipython",
    "version": 3
   },
   "file_extension": ".py",
   "mimetype": "text/x-python",
   "name": "python",
   "nbconvert_exporter": "python",
   "pygments_lexer": "ipython3",
   "version": "3.9.0"
  }
 },
 "nbformat": 4,
 "nbformat_minor": 4
}
