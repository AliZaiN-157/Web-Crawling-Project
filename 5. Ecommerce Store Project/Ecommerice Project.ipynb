{
 "cells": [
  {
   "cell_type": "markdown",
   "metadata": {},
   "source": [
    "### Imports"
   ]
  },
  {
   "cell_type": "code",
   "execution_count": 56,
   "metadata": {},
   "outputs": [],
   "source": [
    "import pandas as pd\n",
    "from bs4 import BeautifulSoup\n",
    "import requests\n",
    "import urllib.parse"
   ]
  },
  {
   "cell_type": "markdown",
   "metadata": {},
   "source": [
    "### HTTP Requests"
   ]
  },
  {
   "cell_type": "markdown",
   "metadata": {},
   "source": [
    "#### store website in variable"
   ]
  },
  {
   "cell_type": "code",
   "execution_count": 3,
   "metadata": {},
   "outputs": [],
   "source": [
    "website = \"https://www.laptopsdirect.co.uk/ct/laptops-and-netbooks/laptops?fts=laptops\""
   ]
  },
  {
   "cell_type": "markdown",
   "metadata": {},
   "source": [
    "#### Get Request"
   ]
  },
  {
   "cell_type": "code",
   "execution_count": 4,
   "metadata": {},
   "outputs": [],
   "source": [
    "response = requests.get(website)"
   ]
  },
  {
   "cell_type": "markdown",
   "metadata": {},
   "source": [
    "#### Status Code"
   ]
  },
  {
   "cell_type": "code",
   "execution_count": 5,
   "metadata": {},
   "outputs": [
    {
     "data": {
      "text/plain": [
       "200"
      ]
     },
     "execution_count": 5,
     "metadata": {},
     "output_type": "execute_result"
    }
   ],
   "source": [
    "response.status_code"
   ]
  },
  {
   "cell_type": "markdown",
   "metadata": {},
   "source": [
    "### Soup Object"
   ]
  },
  {
   "cell_type": "code",
   "execution_count": 7,
   "metadata": {},
   "outputs": [],
   "source": [
    "soup = BeautifulSoup(response.content, 'html.parser')\n",
    "# soup"
   ]
  },
  {
   "cell_type": "markdown",
   "metadata": {},
   "source": [
    "### Results"
   ]
  },
  {
   "cell_type": "code",
   "execution_count": 10,
   "metadata": {},
   "outputs": [
    {
     "data": {
      "text/plain": [
       "'Laptops | Cheap Laptop Deals | Laptops Direct'"
      ]
     },
     "execution_count": 10,
     "metadata": {},
     "output_type": "execute_result"
    }
   ],
   "source": [
    "soup.title.get_text()"
   ]
  },
  {
   "cell_type": "code",
   "execution_count": 12,
   "metadata": {},
   "outputs": [
    {
     "data": {
      "text/plain": [
       "24"
      ]
     },
     "execution_count": 12,
     "metadata": {},
     "output_type": "execute_result"
    }
   ],
   "source": [
    "results = soup.find_all('div',{'class': 'OfferBox'})\n",
    "len(results)"
   ]
  },
  {
   "cell_type": "code",
   "execution_count": 14,
   "metadata": {},
   "outputs": [
    {
     "data": {
      "text/plain": [
       "<div class=\"OfferBox\">\n",
       "<div class=\"merchTopofCentreColumn top5icon\" onload=\"dataLayer.push({'event':'top5IconShown'});\" style=\"display:none; z-index: 20; position: absolute; top: 50px; left: 10px; cursor: pointer;  pointer-events: none; width: 70px;\">\n",
       "<img alt=\"Top 5\" border=\"0\" src=\"https://www.appliancesdirect.co.uk/images/top5-apd.png\"/>\n",
       "</div>\n",
       "<div class=\"SRpercent\">\n",
       "<strong>SAVE <span>8%</span></strong>\n",
       "</div>\n",
       "<div class=\"SavingsPrice\">\n",
       "<strong>SAVE <span>£40<span class=\"tilesUnitText\"></span></span></strong>\n",
       "</div>\n",
       "<div class=\"sr_image\">\n",
       "<div class=\"sr_compare\">\n",
       "<div class=\"sli_compare\" id=\"1525068_compare\">\n",
       "<input class=\"compare\" onclick=\"AddRemoveFromProductCompareCookie(this, event);\" type=\"checkbox\" value=\"1525068\"/>\n",
       "<input id=\"comphid_1525068\" type=\"hidden\" value=\"Laptops\">\n",
       "<span class=\"compareText\">Compare</span>\n",
       "</input></div>\n",
       "<div class=\"comparedialog\" id=\"msg_1525068\" style=\"display:none;\" title=\"Compare products\">\n",
       "<p>Sorry, you can only compare a maximum of 4 items per category.</p>\n",
       "</div>\n",
       "<div class=\"compBtn\" id=\"compBtn_1525068\">\n",
       "<a href=\"/Compare\" type=\"button\">Compare products »</a>\n",
       "</div>\n",
       "</div>\n",
       "<a href=\"/-core-i5-1035g1-8gb-256gb-ssd-15.6-inch-windows-10-laptop-30030444/version.asp\" onclick=\"EnEcomProdClick('30030444', '-core-i5-1035g1-8gb-256gb-ssd-15.6-inch-windows-10-laptop-30030444/version.asp', '1');\" title=\"Medion Akoya E15407 Core i5-1035G1 8GB 256GB SSD 15.6 Inch Full HD Windows 10 Laptop \">\n",
       "<img alt=\"Medion Akoya E15407 Core i5-1035G1 8GB 256GB SSD 15.6 Inch Full HD Windows 10 Laptop \" border=\"0\" class=\"offerImage\" id=\"productImage_1525068\" pid=\"1525068\" src=\"/Images/30030444_1_Classic.png?v=43&amp;width=200&amp;height=200&amp;switchoff=enabled\" title=\"Medion Akoya E15407 Core i5-1035G1 8GB 256GB SSD 15.6 Inch Full HD Windows 10 Laptop \"/>\n",
       "</a>\n",
       "<div class=\"merchTopofCentreColumn plogo plogo-medion\" style=\"\">\n",
       "<img border=\"0\" src=\"/files/images/BuyITMedLogo (002).jpg\"/>\n",
       "</div>\n",
       "</div>\n",
       "<div class=\"OfferBoxProdInfo\">\n",
       "<div class=\"OfferBoxTitle\">\n",
       "<h3>\n",
       "<a class=\"offerboxtitle\" href=\"/-core-i5-1035g1-8gb-256gb-ssd-15.6-inch-windows-10-laptop-30030444/version.asp\" onclick=\"EnEcomProdClick('30030444', '-core-i5-1035g1-8gb-256gb-ssd-15.6-inch-windows-10-laptop-30030444/version.asp', '1');\" title=\"Medion Akoya E15407 Core i5-1035G1 8GB 256GB SSD 15.6 Inch Full HD Windows 10 Laptop  - 30030444\">Medion Akoya E15407 Core i5-1035G1 8GB 256GB SSD 15.6 Inch Full HD Windows 10 Laptop  - 30030444</a>\n",
       "</h3>\n",
       "<star-rating product-url=\"-core-i5-1035g1-8gb-256gb-ssd-15.6-inch-windows-10-laptop-30030444/version.asp\" rating-value=\"8.1\" ratings-count=\"40\"></star-rating>\n",
       "<wishlist-amend currency=\"GBP\" exvatprice=\"383.31\" multiple-mode=\"true\" productavailable=\"true\" productid=\"1525068\" siteid=\"3\" vatrate=\"1.200\"></wishlist-amend>\n",
       "</div>\n",
       "<div class=\"condition-label\">\n",
       "<div class=\"savings-calculated-tooltip\">\n",
       "<div class=\"save-tooltip bottom-tooltip\"><strong>Condition:</strong> Brand new <img class=\"saving-tooltip-icon\" src=\"https://www.laptopsdirect.co.uk/files/images/apd/info-btn-light.png\"/>\n",
       "<div class=\"tooltip-new condition-new\"><p><label>This item is brand new and has never been opened</label> </p></div>\n",
       "</div></div>\n",
       "</div>\n",
       "<div class=\"productInfo\" id=\"productInfo_1525068\">\n",
       "<ul>\n",
       "<li><span class=\"proddescvalue\">Iris Xe Graphics</span> <span class=\"proddesctitle\">Graphics card</span></li>\n",
       "<li><span class=\"proddescvalue\">Intel Core i5 1035G1</span> <span class=\"proddesctitle\">Processor</span></li>\n",
       "<li><span class=\"proddescvalue\">15.6 Inch Full HD Screen</span></li>\n",
       "<li><span class=\"proddescvalue\">8GB</span> <span class=\"proddesctitle\">RAM</span></li>\n",
       "<li><span class=\"proddescvalue\">256GB</span> <span class=\"proddesctitle\">SSD</span></li>\n",
       "</ul>\n",
       "</div>\n",
       "<div class=\"merchTopofCentreColumn searchicon-laptops\" style=\"\">\n",
       "<img alt=\"Intel Laptop Icon Test\" border=\"0\" src=\"/files/images/ld/558949_942Icons_Intel_101519.png\">\n",
       "</img></div>\n",
       "<div class=\"merchTopofCentreColumn searchicon-laptops\" style=\"\">\n",
       "<img alt=\"usb c icon test\" border=\"0\" src=\"/files/images/ld/USB-C-Iconnew.png\"/>\n",
       "</div>\n",
       "<div class=\"merchTopofCentreColumn searchicon-laptops\" style=\"\">\n",
       "<img alt=\"hdmi icon laptop test\" border=\"0\" src=\"/files/images/ld/HDMI2.png\"/>\n",
       "</div>\n",
       "</div>\n",
       "<div class=\"OfferBoxPrice\">\n",
       "<span class=\"strikethrough\">  £499.97 </span>\n",
       "<div class=\"accpricemsgs\">\n",
       "</div>\n",
       "<span class=\"offerpricetext\">Only </span>\n",
       "<span class=\"offerprice\">£459.97<span class=\"tilesUnitText\"></span></span>\n",
       "<div class=\"accpricemsgs\">\n",
       "</div>\n",
       "<a class=\"finance\" onclick=\"ga('send', 'event', 'product page', 'Pay Later');\">\n",
       "<span class=\"financemessage\">or </span>\n",
       "<span class=\"financeprice\">£22.08 a month</span>\n",
       "<span class=\"paypal-credit-ab-test-show\"><span class=\"paypalcredit-srtext\">0% finance available <span class=\"paypal-credit-logo\"></span></span></span>\n",
       "</a>\n",
       "<div class=\"Availability\" id=\"availability_1525068\"></div>\n",
       "<a class=\"offerboxlink btn-prime\" href=\"/-core-i5-1035g1-8gb-256gb-ssd-15.6-inch-windows-10-laptop-30030444/version.asp\" onclick=\"document.location.href='/-core-i5-1035g1-8gb-256gb-ssd-15.6-inch-windows-10-laptop-30030444/version.asp'; EnEcomProdClick('30030444', '-core-i5-1035g1-8gb-256gb-ssd-15.6-inch-windows-10-laptop-30030444/version.asp', '1'); return false;\" title=\"Medion Akoya E15407 Core i5-1035G1 8GB 256GB SSD 15.6 Inch Full HD Windows 10 Laptop \">Find Out More</a>\n",
       "<div class=\"quickview\">\n",
       "<a class=\"dialoganchor btn-second\" id=\"alink_1525068\" onclick=\"CaptureProductClick(39826,1525068,8,24,1,1,51) ; ga('send', 'event', 'QuickView', 'quick view – view', '30030444');\" style=\"cursor:pointer\">Quick View</a>\n",
       "</div>\n",
       "</div>\n",
       "<script type=\"text/javascript\">\n",
       "            $(function () {\n",
       "                if ('False' == 'True') {\n",
       "                    //get the keywords for videos\n",
       "                    GetKeywordsForSearchPage('1525068')\n",
       "                }\n",
       "            });\n",
       "        </script>\n",
       "</div>"
      ]
     },
     "execution_count": 14,
     "metadata": {},
     "output_type": "execute_result"
    }
   ],
   "source": [
    "results[0]"
   ]
  },
  {
   "cell_type": "markdown",
   "metadata": {},
   "source": [
    "### Target Necessary Data"
   ]
  },
  {
   "cell_type": "code",
   "execution_count": 15,
   "metadata": {},
   "outputs": [],
   "source": [
    "#Name\n",
    "#Price\n",
    "#Review Rating\n",
    "#Review Count\n",
    "#Product Link\n",
    "#Product Details"
   ]
  },
  {
   "cell_type": "markdown",
   "metadata": {},
   "source": [
    "#### Name"
   ]
  },
  {
   "cell_type": "code",
   "execution_count": 16,
   "metadata": {},
   "outputs": [
    {
     "data": {
      "text/plain": [
       "'Medion Akoya E15407 Core i5-1035G1 8GB 256GB SSD 15.6 Inch Full HD Windows 10 Laptop  - 30030444'"
      ]
     },
     "execution_count": 16,
     "metadata": {},
     "output_type": "execute_result"
    }
   ],
   "source": [
    "results[0].find('a',{'class':'offerboxtitle'}).get_text()"
   ]
  },
  {
   "cell_type": "markdown",
   "metadata": {},
   "source": [
    "#### Price"
   ]
  },
  {
   "cell_type": "code",
   "execution_count": 17,
   "metadata": {},
   "outputs": [
    {
     "data": {
      "text/plain": [
       "'£459.97'"
      ]
     },
     "execution_count": 17,
     "metadata": {},
     "output_type": "execute_result"
    }
   ],
   "source": [
    "results[0].find('span',{'class':'offerprice'}).get_text()"
   ]
  },
  {
   "cell_type": "markdown",
   "metadata": {},
   "source": [
    "#### Review Rating"
   ]
  },
  {
   "cell_type": "code",
   "execution_count": 41,
   "metadata": {},
   "outputs": [
    {
     "data": {
      "text/plain": [
       "'8.1'"
      ]
     },
     "execution_count": 41,
     "metadata": {},
     "output_type": "execute_result"
    }
   ],
   "source": [
    "results[0].find('star-rating').get('rating-value')"
   ]
  },
  {
   "cell_type": "markdown",
   "metadata": {},
   "source": [
    "#### Review Count"
   ]
  },
  {
   "cell_type": "code",
   "execution_count": 42,
   "metadata": {},
   "outputs": [
    {
     "data": {
      "text/plain": [
       "'40'"
      ]
     },
     "execution_count": 42,
     "metadata": {},
     "output_type": "execute_result"
    }
   ],
   "source": [
    "results[0].find('star-rating').get('ratings-count')"
   ]
  },
  {
   "cell_type": "markdown",
   "metadata": {},
   "source": [
    "#### Product Link"
   ]
  },
  {
   "cell_type": "code",
   "execution_count": 24,
   "metadata": {},
   "outputs": [],
   "source": [
    "product_url = results[0].find('a',{'class':'offerboxtitle'}).get('href')"
   ]
  },
  {
   "cell_type": "code",
   "execution_count": 29,
   "metadata": {},
   "outputs": [],
   "source": [
    "#provide the root element inside a variable\n",
    "root_url = 'https://www.laptopsdirect.co.uk'"
   ]
  },
  {
   "cell_type": "code",
   "execution_count": 30,
   "metadata": {},
   "outputs": [
    {
     "data": {
      "text/plain": [
       "'https://www.laptopsdirect.co.uk/-core-i5-1035g1-8gb-256gb-ssd-15.6-inch-windows-10-laptop-30030444/version.asp'"
      ]
     },
     "execution_count": 30,
     "metadata": {},
     "output_type": "execute_result"
    }
   ],
   "source": [
    "#combine root url with product url\n",
    "url_combine = root_url + product_url\n",
    "url_combine"
   ]
  },
  {
   "cell_type": "markdown",
   "metadata": {},
   "source": [
    "#### Product Details"
   ]
  },
  {
   "cell_type": "code",
   "execution_count": 35,
   "metadata": {},
   "outputs": [
    {
     "data": {
      "text/plain": [
       "'Iris Xe Graphics Graphics card, Intel Core i5 1035G1 Processor, 15.6 Inch Full HD Screen, 8GB RAM, 256GB SSD'"
      ]
     },
     "execution_count": 35,
     "metadata": {},
     "output_type": "execute_result"
    }
   ],
   "source": [
    "results[0].find('div',{'class':'productInfo'}).get_text().strip().replace('\\n', ', ')"
   ]
  },
  {
   "cell_type": "code",
   "execution_count": null,
   "metadata": {},
   "outputs": [],
   "source": []
  },
  {
   "cell_type": "markdown",
   "metadata": {},
   "source": [
    "### Put everything Together inside a For-Loop"
   ]
  },
  {
   "cell_type": "code",
   "execution_count": 48,
   "metadata": {},
   "outputs": [],
   "source": [
    "product_Name=[]\n",
    "product_Price=[]\n",
    "product_Review_Rating=[]\n",
    "product_Review_Count=[]\n",
    "product_Link=[]\n",
    "product_Details=[]\n",
    "\n",
    "for result in results:\n",
    "    \n",
    "    #Name\n",
    "    try:\n",
    "        product_Name.append(result.find('a',{'class':'offerboxtitle'}).get_text())\n",
    "    except:\n",
    "        product_Name.append('n/a')\n",
    "        \n",
    "    #Price\n",
    "    try:\n",
    "        product_Price.append(result.find('span',{'class':'offerprice'}).get_text())\n",
    "    except:\n",
    "        product_Price.append('n/a')\n",
    "    \n",
    "    #Review_Rating\n",
    "    try:\n",
    "        product_Review_Rating.append(result.find('star-rating').get('rating-value'))\n",
    "    except:\n",
    "        product_Review_Rating.append('n/a')\n",
    "        \n",
    "    #Review Count\n",
    "    try:\n",
    "        product_Review_Count.append(result.find('star-rating').get('ratings-count'))\n",
    "    except:\n",
    "        product_Review_Count.append('n/a')\n",
    "    \n",
    "    #Product Link\n",
    "    try:\n",
    "        product_Link.append(result.find('a',{'class':'offerboxtitle'}).get('href'))\n",
    "    except:\n",
    "        product_Link.append('n/a')\n",
    "                             \n",
    "    #Product Details\n",
    "    try:\n",
    "        product_Details.append(result.find('div',{'class':'productInfo'}).get_text().strip().replace('\\n', ', '))\n",
    "    except:\n",
    "        product_Details.append('n/a')"
   ]
  },
  {
   "cell_type": "code",
   "execution_count": null,
   "metadata": {},
   "outputs": [],
   "source": []
  },
  {
   "cell_type": "markdown",
   "metadata": {},
   "source": [
    "#### Combine Urls"
   ]
  },
  {
   "cell_type": "code",
   "execution_count": 57,
   "metadata": {},
   "outputs": [],
   "source": [
    "url_combined = []\n",
    "\n",
    "for link in product_Link:\n",
    "    url_combined.append(urllib.parse.urljoin(root_url,link))"
   ]
  },
  {
   "cell_type": "markdown",
   "metadata": {},
   "source": [
    "### Create Pandas DataFrame"
   ]
  },
  {
   "cell_type": "code",
   "execution_count": 59,
   "metadata": {},
   "outputs": [],
   "source": [
    "product_overview = pd.DataFrame({'Name':product_Name,\n",
    "                                 'Price':product_Price,\n",
    "                                 'Rating':product_Review_Rating,\n",
    "                                 'Review Count':product_Review_Count,\n",
    "                                 'Link':url_combined,\n",
    "                                 'Details':product_Details\n",
    "                                })"
   ]
  },
  {
   "cell_type": "code",
   "execution_count": 70,
   "metadata": {},
   "outputs": [
    {
     "data": {
      "text/plain": [
       "(24, 6)"
      ]
     },
     "execution_count": 70,
     "metadata": {},
     "output_type": "execute_result"
    }
   ],
   "source": [
    "product_overview.shape"
   ]
  },
  {
   "cell_type": "code",
   "execution_count": 63,
   "metadata": {},
   "outputs": [
    {
     "data": {
      "text/html": [
       "<div>\n",
       "<style scoped>\n",
       "    .dataframe tbody tr th:only-of-type {\n",
       "        vertical-align: middle;\n",
       "    }\n",
       "\n",
       "    .dataframe tbody tr th {\n",
       "        vertical-align: top;\n",
       "    }\n",
       "\n",
       "    .dataframe thead th {\n",
       "        text-align: right;\n",
       "    }\n",
       "</style>\n",
       "<table border=\"1\" class=\"dataframe\">\n",
       "  <thead>\n",
       "    <tr style=\"text-align: right;\">\n",
       "      <th></th>\n",
       "      <th>Name</th>\n",
       "      <th>Price</th>\n",
       "      <th>Rating</th>\n",
       "      <th>Review Count</th>\n",
       "      <th>Link</th>\n",
       "      <th>Details</th>\n",
       "    </tr>\n",
       "  </thead>\n",
       "  <tbody>\n",
       "    <tr>\n",
       "      <th>0</th>\n",
       "      <td>Medion Akoya E15407 Core i5-1035G1 8GB 256GB S...</td>\n",
       "      <td>£459.97</td>\n",
       "      <td>8.1</td>\n",
       "      <td>40</td>\n",
       "      <td>https://www.laptopsdirect.co.uk/-core-i5-1035g...</td>\n",
       "      <td>Iris Xe Graphics Graphics card, Intel Core i5 ...</td>\n",
       "    </tr>\n",
       "    <tr>\n",
       "      <th>1</th>\n",
       "      <td>Lenovo V14-ADA Athlon Gold 3150U 8GB 256GB SSD...</td>\n",
       "      <td>£369.97</td>\n",
       "      <td>8.8</td>\n",
       "      <td>33</td>\n",
       "      <td>https://www.laptopsdirect.co.uk/lenovo-v14-ada...</td>\n",
       "      <td>Radeon Graphics Graphics card, Athlon Gold 315...</td>\n",
       "    </tr>\n",
       "    <tr>\n",
       "      <th>2</th>\n",
       "      <td>CODA 3.4 Core i3-6157U 4GB 128GB SSD 14.1 Inch...</td>\n",
       "      <td>£249.97</td>\n",
       "      <td>7.6</td>\n",
       "      <td>25</td>\n",
       "      <td>https://www.laptopsdirect.co.uk/coda-340-core-...</td>\n",
       "      <td>UHD Graphics 620 Graphics card, Intel Core i3 ...</td>\n",
       "    </tr>\n",
       "    <tr>\n",
       "      <th>3</th>\n",
       "      <td>Asus C223NA Intel Celeron N3350 4GB 32GB eMMC ...</td>\n",
       "      <td>£197.97</td>\n",
       "      <td>n/a</td>\n",
       "      <td>n/a</td>\n",
       "      <td>https://www.laptopsdirect.co.uk/asus-c223na-in...</td>\n",
       "      <td>Intel Celeron N3350 Processor, 11.6 Inch 1366 ...</td>\n",
       "    </tr>\n",
       "    <tr>\n",
       "      <th>4</th>\n",
       "      <td>CODA 1.2 Intel Celeron N4020 4GB 64GB eMMC 12....</td>\n",
       "      <td>£169.97</td>\n",
       "      <td>n/a</td>\n",
       "      <td>n/a</td>\n",
       "      <td>https://www.laptopsdirect.co.uk/coda-1.2-intel...</td>\n",
       "      <td>UHD Graphics 620 Graphics card, Intel Celeron ...</td>\n",
       "    </tr>\n",
       "    <tr>\n",
       "      <th>5</th>\n",
       "      <td>Asus C523 Intel Celeron N3350 4GB 64GB eMMC 15...</td>\n",
       "      <td>£259.97</td>\n",
       "      <td>9</td>\n",
       "      <td>10</td>\n",
       "      <td>https://www.laptopsdirect.co.uk/-c523na-br0067...</td>\n",
       "      <td>Intel Celeron N3350 Processor, 15.6 Inch 1366 ...</td>\n",
       "    </tr>\n",
       "    <tr>\n",
       "      <th>6</th>\n",
       "      <td>Refurbished Lenovo Yoga 11e Intel Celeron N294...</td>\n",
       "      <td>£119.97</td>\n",
       "      <td>n/a</td>\n",
       "      <td>n/a</td>\n",
       "      <td>https://www.laptopsdirect.co.uk/refurbished-le...</td>\n",
       "      <td>Intel Celeron N2940 Processor, 11.6 Inch 1366 ...</td>\n",
       "    </tr>\n",
       "    <tr>\n",
       "      <th>7</th>\n",
       "      <td>Lenovo V15-IIL Core i5-1035G1 8GB 256GB SSD 15...</td>\n",
       "      <td>£549.97</td>\n",
       "      <td>8.7</td>\n",
       "      <td>892</td>\n",
       "      <td>https://www.laptopsdirect.co.uk/lenovo-v15-iil...</td>\n",
       "      <td>UHD Graphics 620 Graphics card, Intel Core i5 ...</td>\n",
       "    </tr>\n",
       "    <tr>\n",
       "      <th>8</th>\n",
       "      <td>MSI GF63 Thin 9SCSR-1069UK Core i5-9300H 8GB 2...</td>\n",
       "      <td>£599.97</td>\n",
       "      <td>8.9</td>\n",
       "      <td>78</td>\n",
       "      <td>https://www.laptopsdirect.co.uk/msi-gf63-thin-...</td>\n",
       "      <td>GeForce GTX 1650 Ti 4GB Graphics card, Intel C...</td>\n",
       "    </tr>\n",
       "    <tr>\n",
       "      <th>9</th>\n",
       "      <td>Lenovo V14-ADA AMD Ryzen 3 3250U 8GB 256GB SSD...</td>\n",
       "      <td>£399.97</td>\n",
       "      <td>8.9</td>\n",
       "      <td>23</td>\n",
       "      <td>https://www.laptopsdirect.co.uk/lenovo-v14-ada...</td>\n",
       "      <td>Radeon Graphics Graphics card, AMD Ryzen 3 325...</td>\n",
       "    </tr>\n",
       "    <tr>\n",
       "      <th>10</th>\n",
       "      <td>Refurbished Lenovo ThinkPad T430 Core i5 3320M...</td>\n",
       "      <td>£319.97</td>\n",
       "      <td>n/a</td>\n",
       "      <td>n/a</td>\n",
       "      <td>https://www.laptopsdirect.co.uk/refurbished-le...</td>\n",
       "      <td>Intel Core i5 3220M Processor, 14 Inch 1366 x ...</td>\n",
       "    </tr>\n",
       "    <tr>\n",
       "      <th>11</th>\n",
       "      <td>Lenovo ThinkBook 15 Core i5-1035G1 8GB 256GB S...</td>\n",
       "      <td>£689.97</td>\n",
       "      <td>8.8</td>\n",
       "      <td>102</td>\n",
       "      <td>https://www.laptopsdirect.co.uk/lenovo-thinkbo...</td>\n",
       "      <td>Iris Xe Graphics Graphics card, Intel Core i5 ...</td>\n",
       "    </tr>\n",
       "    <tr>\n",
       "      <th>12</th>\n",
       "      <td>ASUS Vivobook X712JA Core i3-1005G1 8GB 1TB 17...</td>\n",
       "      <td>£429.97</td>\n",
       "      <td>6</td>\n",
       "      <td>2</td>\n",
       "      <td>https://www.laptopsdirect.co.uk/asus-vivobook-...</td>\n",
       "      <td>UHD Graphics 620 Graphics card, Intel Core i3 ...</td>\n",
       "    </tr>\n",
       "    <tr>\n",
       "      <th>13</th>\n",
       "      <td>Lenovo V15 Althlon Silver 3050U 4GB 128GB SSD ...</td>\n",
       "      <td>£299.97</td>\n",
       "      <td>8.7</td>\n",
       "      <td>892</td>\n",
       "      <td>https://www.laptopsdirect.co.uk/lenovo-v15-alt...</td>\n",
       "      <td>Radeon Graphics Graphics card, Athlon Silver 3...</td>\n",
       "    </tr>\n",
       "    <tr>\n",
       "      <th>14</th>\n",
       "      <td>Acer Aspire 7 A715-75G Core i5-9300H 8GB 512GB...</td>\n",
       "      <td>£629.97</td>\n",
       "      <td>9.1</td>\n",
       "      <td>10</td>\n",
       "      <td>https://www.laptopsdirect.co.uk/acer-aspire-7-...</td>\n",
       "      <td>GeForce GTX 1650 Ti 4GB Graphics card, Intel C...</td>\n",
       "    </tr>\n",
       "    <tr>\n",
       "      <th>15</th>\n",
       "      <td>ACER Swift 1 SF114-34 Intel Pentium N6000 4GB ...</td>\n",
       "      <td>£289.97</td>\n",
       "      <td>9.8</td>\n",
       "      <td>6</td>\n",
       "      <td>https://www.laptopsdirect.co.uk/acer-swift-1-s...</td>\n",
       "      <td>Iris Xe Graphics Graphics card, Pentium Silver...</td>\n",
       "    </tr>\n",
       "    <tr>\n",
       "      <th>16</th>\n",
       "      <td>Asus Vivobook Core i5-1035G1 8GB 256GB SSD 14 ...</td>\n",
       "      <td>£499.97</td>\n",
       "      <td>8</td>\n",
       "      <td>1</td>\n",
       "      <td>https://www.laptopsdirect.co.uk/asus-vivobook-...</td>\n",
       "      <td>UHD Graphics 620 Graphics card, Intel Core i5 ...</td>\n",
       "    </tr>\n",
       "    <tr>\n",
       "      <th>17</th>\n",
       "      <td>Lenovo Legion 5 AMD Ryzen 7-5800H 16GB 512GB S...</td>\n",
       "      <td>£1297.97</td>\n",
       "      <td>9</td>\n",
       "      <td>38</td>\n",
       "      <td>https://www.laptopsdirect.co.uk/lenovo-legion-...</td>\n",
       "      <td>GeForce RTX 3070 8GB Graphics card, AMD Ryzen ...</td>\n",
       "    </tr>\n",
       "    <tr>\n",
       "      <th>18</th>\n",
       "      <td>Lenovo ThinkBook 14 Gen 2 Core i7-1165 16GB 51...</td>\n",
       "      <td>£819.97</td>\n",
       "      <td>9.5</td>\n",
       "      <td>2</td>\n",
       "      <td>https://www.laptopsdirect.co.uk/lenovo-thinkbo...</td>\n",
       "      <td>Iris Xe Graphics Graphics card, Intel Core i7 ...</td>\n",
       "    </tr>\n",
       "    <tr>\n",
       "      <th>19</th>\n",
       "      <td>Dell Latitude 3510 Core i5-10210U 8GB 256GB SS...</td>\n",
       "      <td>£709.97</td>\n",
       "      <td>8.8</td>\n",
       "      <td>21</td>\n",
       "      <td>https://www.laptopsdirect.co.uk/dell-latitude-...</td>\n",
       "      <td>Intel Core i5 10210U Processor, 15.6 Inch Full...</td>\n",
       "    </tr>\n",
       "    <tr>\n",
       "      <th>20</th>\n",
       "      <td>HP 250 G8 Core i5-1035G1 8GB 256GB SSD 15.6 In...</td>\n",
       "      <td>£739.97</td>\n",
       "      <td>8.8</td>\n",
       "      <td>266</td>\n",
       "      <td>https://www.laptopsdirect.co.uk/hp-250-g8-core...</td>\n",
       "      <td>UHD Graphics 620 Graphics card, Intel Core i5 ...</td>\n",
       "    </tr>\n",
       "    <tr>\n",
       "      <th>21</th>\n",
       "      <td>HP ProBook 450 G8 Core i5-1135G7 8GB 256GB SSD...</td>\n",
       "      <td>£754.97</td>\n",
       "      <td>9</td>\n",
       "      <td>1</td>\n",
       "      <td>https://www.laptopsdirect.co.uk/hp-probook-450...</td>\n",
       "      <td>UHD Graphics 620 Graphics card, Intel Core i5 ...</td>\n",
       "    </tr>\n",
       "    <tr>\n",
       "      <th>22</th>\n",
       "      <td>HP 250 G8 Core i7-1065G7 8GB 256GB SSD 15.6 In...</td>\n",
       "      <td>£779.97</td>\n",
       "      <td>8</td>\n",
       "      <td>1</td>\n",
       "      <td>https://www.laptopsdirect.co.uk/hp-250-g8-core...</td>\n",
       "      <td>UHD Graphics 620 Graphics card, Intel Core i7 ...</td>\n",
       "    </tr>\n",
       "    <tr>\n",
       "      <th>23</th>\n",
       "      <td>Lenovo ThinkBook 14 Gen 2  Ryzen 7 4700 16GB 5...</td>\n",
       "      <td>£949.97</td>\n",
       "      <td>n/a</td>\n",
       "      <td>n/a</td>\n",
       "      <td>https://www.laptopsdirect.co.uk/lenovo-thinkbo...</td>\n",
       "      <td>Radeon Graphics Graphics card, AMD Ryzen 7 470...</td>\n",
       "    </tr>\n",
       "  </tbody>\n",
       "</table>\n",
       "</div>"
      ],
      "text/plain": [
       "                                                 Name     Price Rating  \\\n",
       "0   Medion Akoya E15407 Core i5-1035G1 8GB 256GB S...   £459.97    8.1   \n",
       "1   Lenovo V14-ADA Athlon Gold 3150U 8GB 256GB SSD...   £369.97    8.8   \n",
       "2   CODA 3.4 Core i3-6157U 4GB 128GB SSD 14.1 Inch...   £249.97    7.6   \n",
       "3   Asus C223NA Intel Celeron N3350 4GB 32GB eMMC ...   £197.97    n/a   \n",
       "4   CODA 1.2 Intel Celeron N4020 4GB 64GB eMMC 12....   £169.97    n/a   \n",
       "5   Asus C523 Intel Celeron N3350 4GB 64GB eMMC 15...   £259.97      9   \n",
       "6   Refurbished Lenovo Yoga 11e Intel Celeron N294...   £119.97    n/a   \n",
       "7   Lenovo V15-IIL Core i5-1035G1 8GB 256GB SSD 15...   £549.97    8.7   \n",
       "8   MSI GF63 Thin 9SCSR-1069UK Core i5-9300H 8GB 2...   £599.97    8.9   \n",
       "9   Lenovo V14-ADA AMD Ryzen 3 3250U 8GB 256GB SSD...   £399.97    8.9   \n",
       "10  Refurbished Lenovo ThinkPad T430 Core i5 3320M...   £319.97    n/a   \n",
       "11  Lenovo ThinkBook 15 Core i5-1035G1 8GB 256GB S...   £689.97    8.8   \n",
       "12  ASUS Vivobook X712JA Core i3-1005G1 8GB 1TB 17...   £429.97      6   \n",
       "13  Lenovo V15 Althlon Silver 3050U 4GB 128GB SSD ...   £299.97    8.7   \n",
       "14  Acer Aspire 7 A715-75G Core i5-9300H 8GB 512GB...   £629.97    9.1   \n",
       "15  ACER Swift 1 SF114-34 Intel Pentium N6000 4GB ...   £289.97    9.8   \n",
       "16  Asus Vivobook Core i5-1035G1 8GB 256GB SSD 14 ...   £499.97      8   \n",
       "17  Lenovo Legion 5 AMD Ryzen 7-5800H 16GB 512GB S...  £1297.97      9   \n",
       "18  Lenovo ThinkBook 14 Gen 2 Core i7-1165 16GB 51...   £819.97    9.5   \n",
       "19  Dell Latitude 3510 Core i5-10210U 8GB 256GB SS...   £709.97    8.8   \n",
       "20  HP 250 G8 Core i5-1035G1 8GB 256GB SSD 15.6 In...   £739.97    8.8   \n",
       "21  HP ProBook 450 G8 Core i5-1135G7 8GB 256GB SSD...   £754.97      9   \n",
       "22  HP 250 G8 Core i7-1065G7 8GB 256GB SSD 15.6 In...   £779.97      8   \n",
       "23  Lenovo ThinkBook 14 Gen 2  Ryzen 7 4700 16GB 5...   £949.97    n/a   \n",
       "\n",
       "   Review Count                                               Link  \\\n",
       "0            40  https://www.laptopsdirect.co.uk/-core-i5-1035g...   \n",
       "1            33  https://www.laptopsdirect.co.uk/lenovo-v14-ada...   \n",
       "2            25  https://www.laptopsdirect.co.uk/coda-340-core-...   \n",
       "3           n/a  https://www.laptopsdirect.co.uk/asus-c223na-in...   \n",
       "4           n/a  https://www.laptopsdirect.co.uk/coda-1.2-intel...   \n",
       "5            10  https://www.laptopsdirect.co.uk/-c523na-br0067...   \n",
       "6           n/a  https://www.laptopsdirect.co.uk/refurbished-le...   \n",
       "7           892  https://www.laptopsdirect.co.uk/lenovo-v15-iil...   \n",
       "8            78  https://www.laptopsdirect.co.uk/msi-gf63-thin-...   \n",
       "9            23  https://www.laptopsdirect.co.uk/lenovo-v14-ada...   \n",
       "10          n/a  https://www.laptopsdirect.co.uk/refurbished-le...   \n",
       "11          102  https://www.laptopsdirect.co.uk/lenovo-thinkbo...   \n",
       "12            2  https://www.laptopsdirect.co.uk/asus-vivobook-...   \n",
       "13          892  https://www.laptopsdirect.co.uk/lenovo-v15-alt...   \n",
       "14           10  https://www.laptopsdirect.co.uk/acer-aspire-7-...   \n",
       "15            6  https://www.laptopsdirect.co.uk/acer-swift-1-s...   \n",
       "16            1  https://www.laptopsdirect.co.uk/asus-vivobook-...   \n",
       "17           38  https://www.laptopsdirect.co.uk/lenovo-legion-...   \n",
       "18            2  https://www.laptopsdirect.co.uk/lenovo-thinkbo...   \n",
       "19           21  https://www.laptopsdirect.co.uk/dell-latitude-...   \n",
       "20          266  https://www.laptopsdirect.co.uk/hp-250-g8-core...   \n",
       "21            1  https://www.laptopsdirect.co.uk/hp-probook-450...   \n",
       "22            1  https://www.laptopsdirect.co.uk/hp-250-g8-core...   \n",
       "23          n/a  https://www.laptopsdirect.co.uk/lenovo-thinkbo...   \n",
       "\n",
       "                                              Details  \n",
       "0   Iris Xe Graphics Graphics card, Intel Core i5 ...  \n",
       "1   Radeon Graphics Graphics card, Athlon Gold 315...  \n",
       "2   UHD Graphics 620 Graphics card, Intel Core i3 ...  \n",
       "3   Intel Celeron N3350 Processor, 11.6 Inch 1366 ...  \n",
       "4   UHD Graphics 620 Graphics card, Intel Celeron ...  \n",
       "5   Intel Celeron N3350 Processor, 15.6 Inch 1366 ...  \n",
       "6   Intel Celeron N2940 Processor, 11.6 Inch 1366 ...  \n",
       "7   UHD Graphics 620 Graphics card, Intel Core i5 ...  \n",
       "8   GeForce GTX 1650 Ti 4GB Graphics card, Intel C...  \n",
       "9   Radeon Graphics Graphics card, AMD Ryzen 3 325...  \n",
       "10  Intel Core i5 3220M Processor, 14 Inch 1366 x ...  \n",
       "11  Iris Xe Graphics Graphics card, Intel Core i5 ...  \n",
       "12  UHD Graphics 620 Graphics card, Intel Core i3 ...  \n",
       "13  Radeon Graphics Graphics card, Athlon Silver 3...  \n",
       "14  GeForce GTX 1650 Ti 4GB Graphics card, Intel C...  \n",
       "15  Iris Xe Graphics Graphics card, Pentium Silver...  \n",
       "16  UHD Graphics 620 Graphics card, Intel Core i5 ...  \n",
       "17  GeForce RTX 3070 8GB Graphics card, AMD Ryzen ...  \n",
       "18  Iris Xe Graphics Graphics card, Intel Core i7 ...  \n",
       "19  Intel Core i5 10210U Processor, 15.6 Inch Full...  \n",
       "20  UHD Graphics 620 Graphics card, Intel Core i5 ...  \n",
       "21  UHD Graphics 620 Graphics card, Intel Core i5 ...  \n",
       "22  UHD Graphics 620 Graphics card, Intel Core i7 ...  \n",
       "23  Radeon Graphics Graphics card, AMD Ryzen 7 470...  "
      ]
     },
     "execution_count": 63,
     "metadata": {},
     "output_type": "execute_result"
    }
   ],
   "source": [
    "product_overview"
   ]
  },
  {
   "cell_type": "markdown",
   "metadata": {},
   "source": [
    "### Output in Excel"
   ]
  },
  {
   "cell_type": "code",
   "execution_count": 61,
   "metadata": {},
   "outputs": [],
   "source": [
    "product_overview.to_excel('ecommerce_single_page.xlsx', index=False)"
   ]
  },
  {
   "cell_type": "markdown",
   "metadata": {},
   "source": [
    "### Part 2: Pagination of 20 pages"
   ]
  },
  {
   "cell_type": "code",
   "execution_count": 64,
   "metadata": {},
   "outputs": [],
   "source": [
    "product_Name=[]\n",
    "product_Price=[]\n",
    "product_Review_Rating=[]\n",
    "product_Review_Count=[]\n",
    "product_Link=[]\n",
    "product_Details=[]\n",
    "\n",
    "for i in range (1,21):\n",
    "    website = 'https://www.laptopsdirect.co.uk/ct/laptops-and-netbooks/laptops?pageNumber='+ str(i)\n",
    "    \n",
    "    #request\n",
    "    response = requests.get(website)\n",
    "    \n",
    "    #Soup\n",
    "    soup = BeautifulSoup(response.content, 'html.parser')\n",
    "    \n",
    "    #Results\n",
    "    results = soup.find_all('div',{'class': 'OfferBox'})\n",
    "    \n",
    "    #Loop Through results\n",
    "    for result in results:\n",
    "        \n",
    "        #Name\n",
    "        try:\n",
    "            product_Name.append(result.find('a',{'class':'offerboxtitle'}).get_text())\n",
    "        except:\n",
    "            product_Name.append('n/a')\n",
    "\n",
    "        #Price\n",
    "        try:\n",
    "            product_Price.append(result.find('span',{'class':'offerprice'}).get_text())\n",
    "        except:\n",
    "            product_Price.append('n/a')\n",
    "\n",
    "        #Review_Rating\n",
    "        try:\n",
    "            product_Review_Rating.append(result.find('star-rating').get('rating-value'))\n",
    "        except:\n",
    "            product_Review_Rating.append('n/a')\n",
    "\n",
    "        #Review Count\n",
    "        try:\n",
    "            product_Review_Count.append(result.find('star-rating').get('ratings-count'))\n",
    "        except:\n",
    "            product_Review_Count.append('n/a')\n",
    "\n",
    "        #Product Link\n",
    "        try:\n",
    "            product_Link.append(result.find('a',{'class':'offerboxtitle'}).get('href'))\n",
    "        except:\n",
    "            product_Link.append('n/a')\n",
    "\n",
    "        #Product Details\n",
    "        try:\n",
    "            product_Details.append(result.find('div',{'class':'productInfo'}).get_text().strip().replace('\\n', ', '))\n",
    "        except:\n",
    "            product_Details.append('n/a')"
   ]
  },
  {
   "cell_type": "code",
   "execution_count": 65,
   "metadata": {},
   "outputs": [],
   "source": [
    "url_combined = []\n",
    "\n",
    "for link in product_Link:\n",
    "    url_combined.append(urllib.parse.urljoin(root_url,link))"
   ]
  },
  {
   "cell_type": "code",
   "execution_count": 66,
   "metadata": {},
   "outputs": [],
   "source": [
    "product_overview2 = pd.DataFrame({'Name':product_Name,\n",
    "                                 'Price':product_Price,\n",
    "                                 'Rating':product_Review_Rating,\n",
    "                                 'Review Count':product_Review_Count,\n",
    "                                 'Link':url_combined,\n",
    "                                 'Details':product_Details\n",
    "                                })"
   ]
  },
  {
   "cell_type": "code",
   "execution_count": 69,
   "metadata": {},
   "outputs": [
    {
     "data": {
      "text/plain": [
       "(480, 6)"
      ]
     },
     "execution_count": 69,
     "metadata": {},
     "output_type": "execute_result"
    }
   ],
   "source": [
    "product_overview2.shape"
   ]
  },
  {
   "cell_type": "code",
   "execution_count": 71,
   "metadata": {},
   "outputs": [],
   "source": [
    "product_overview2.to_excel('ecommerce_multiple_pages.xlsx', index=False)"
   ]
  },
  {
   "cell_type": "code",
   "execution_count": null,
   "metadata": {},
   "outputs": [],
   "source": []
  }
 ],
 "metadata": {
  "kernelspec": {
   "display_name": "Python 3",
   "language": "python",
   "name": "python3"
  },
  "language_info": {
   "codemirror_mode": {
    "name": "ipython",
    "version": 3
   },
   "file_extension": ".py",
   "mimetype": "text/x-python",
   "name": "python",
   "nbconvert_exporter": "python",
   "pygments_lexer": "ipython3",
   "version": "3.9.0"
  }
 },
 "nbformat": 4,
 "nbformat_minor": 4
}
